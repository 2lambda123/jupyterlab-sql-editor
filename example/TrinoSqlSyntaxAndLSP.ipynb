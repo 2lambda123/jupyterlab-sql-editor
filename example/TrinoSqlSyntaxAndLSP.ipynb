{
 "cells": [
  {
   "cell_type": "code",
   "execution_count": 1,
   "id": "5bd98db3-20bd-425f-8227-e56dbb17159e",
   "metadata": {},
   "outputs": [],
   "source": [
    "# Display all cell outputs in notebook\n",
    "from IPython.core.interactiveshell import InteractiveShell\n",
    "InteractiveShell.ast_node_interactivity = 'all'"
   ]
  },
  {
   "cell_type": "code",
   "execution_count": 1,
   "id": "813f6c4c-31d5-4133-bf5a-c19166175fc5",
   "metadata": {},
   "outputs": [],
   "source": [
    "%load_ext ipython_trino_magic"
   ]
  },
  {
   "cell_type": "code",
   "execution_count": 2,
   "id": "ebe21bca-8dc0-4700-81f8-0c410c007c06",
   "metadata": {},
   "outputs": [],
   "source": [
    "\n",
    "%config Trino.host='localhost'\n",
    "%config Trino.port=8080\n",
    "%config Trino.httpScheme='http'\n",
    "%config Trino.auth=None\n",
    "%config Trino.user='the-user'\n",
    "\n",
    "%config Trino.cacheTTL=60\n",
    "%config Trino.outputFile=\"/tmp/trinodb.schema.json\"\n",
    "\n",
    "# comma seperated list of schema to cache in the schema file\n",
    "%config Trino.catalogs=\"system,tpch\"\n"
   ]
  },
  {
   "cell_type": "markdown",
   "id": "51c6d367-26c0-4cf3-8be8-3a5072c335f0",
   "metadata": {
    "jp-MarkdownHeadingCollapsed": true,
    "tags": []
   },
   "source": [
    "    In production environment you will want to pass in an authentiction\n",
    "\n",
    "```python\n",
    "    import trino\n",
    "    %config Trino.auth=trino.auth.BasicAuthentication(\"principal id\", \"password\")\n",
    "    %config Trino.user=None\n",
    "```\n",
    "    See https://github.com/trinodb/trino-python-client/blob/master/trino/auth.py for more details\n"
   ]
  },
  {
   "cell_type": "code",
   "execution_count": 3,
   "id": "49829f2e-30ea-4101-a524-ce8489c662b3",
   "metadata": {},
   "outputs": [
    {
     "name": "stdout",
     "output_type": "stream",
     "text": [
      "TTL 60 seconds expired, re-generating schema file: /tmp/trinodb.schema.json\n",
      "Schema file updated: /tmp/trinodb.schema.json\n"
     ]
    },
    {
     "data": {
      "text/html": [
       "<table><tr style=\"border-bottom: 1px solid\"><td style=\"font-weight: bold\">_col0</td></tr><tr><td>hello</td></tr></table>"
      ],
      "text/plain": [
       "<IPython.core.display.HTML object>"
      ]
     },
     "execution_count": 3,
     "metadata": {},
     "output_type": "execute_result"
    }
   ],
   "source": [
    "%trino SELECT 'hello'"
   ]
  },
  {
   "cell_type": "code",
   "execution_count": 22,
   "id": "97f58dfa-3f02-4f21-ad23-9b55569da98c",
   "metadata": {},
   "outputs": [
    {
     "name": "stdout",
     "output_type": "stream",
     "text": [
      "TTL 1 seconds expired, re-generating schema file: /tmp/trinodb.schema.json\n",
      "Schema file updated: /tmp/trinodb.schema.json\n"
     ]
    },
    {
     "data": {
      "text/html": [
       "<table><tr style=\"border-bottom: 1px solid\"><td style=\"font-weight: bold\">Catalog</td></tr><tr><td>system</td></tr><tr><td>tpch</td></tr></table>"
      ],
      "text/plain": [
       "<IPython.core.display.HTML object>"
      ]
     },
     "execution_count": 22,
     "metadata": {},
     "output_type": "execute_result"
    }
   ],
   "source": [
    "%trino SHOW CATALOGS"
   ]
  },
  {
   "cell_type": "code",
   "execution_count": 16,
   "id": "65010544-c6e5-42de-8c23-89e305cb63cd",
   "metadata": {},
   "outputs": [
    {
     "data": {
      "text/html": [
       "<table><tr style=\"border-bottom: 1px solid\"><td style=\"font-weight: bold\">name</td><td style=\"font-weight: bold\">nationkey</td></tr><tr><td>ALGERIA</td><td>0</td></tr><tr><td>ARGENTINA</td><td>1</td></tr><tr><td>BRAZIL</td><td>2</td></tr><tr><td>CANADA</td><td>3</td></tr><tr><td>EGYPT</td><td>4</td></tr></table>"
      ],
      "text/plain": [
       "<IPython.core.display.HTML object>"
      ]
     },
     "execution_count": 16,
     "metadata": {},
     "output_type": "execute_result"
    }
   ],
   "source": [
    "%%trino --limit 5\n",
    "SELECT\n",
    "    nat.name,\n",
    "    nat.nationkey\n",
    "FROM\n",
    "    tpch.sf1.nation AS nat\n"
   ]
  }
 ],
 "metadata": {
  "kernelspec": {
   "display_name": "Python 3 (ipykernel)",
   "language": "python",
   "name": "python3"
  },
  "language_info": {
   "codemirror_mode": {
    "name": "ipython",
    "version": 3
   },
   "file_extension": ".py",
   "mimetype": "text/x-python",
   "name": "python",
   "nbconvert_exporter": "python",
   "pygments_lexer": "ipython3",
   "version": "3.9.6"
  }
 },
 "nbformat": 4,
 "nbformat_minor": 5
}
