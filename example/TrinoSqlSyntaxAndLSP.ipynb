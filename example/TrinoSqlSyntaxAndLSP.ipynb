{
 "cells": [
  {
   "cell_type": "code",
   "execution_count": 1,
   "id": "813f6c4c-31d5-4133-bf5a-c19166175fc5",
   "metadata": {},
   "outputs": [
    {
     "name": "stdout",
     "output_type": "stream",
     "text": [
      "The trinosql extension is already loaded. To reload it, use:\n",
      "  %reload_ext trinosql\n"
     ]
    }
   ],
   "source": [
    "%load_ext trinosql"
   ]
  },
  {
   "cell_type": "code",
   "execution_count": 2,
   "id": "65010544-c6e5-42de-8c23-89e305cb63cd",
   "metadata": {},
   "outputs": [
    {
     "data": {
      "text/html": [
       "<table><tr style=\"border-bottom: 1px solid\"><td style=\"font-weight: bold\">X</td></tr><tr><td>allo</td></tr></table>"
      ],
      "text/plain": [
       "<IPython.core.display.HTML object>"
      ]
     },
     "execution_count": 2,
     "metadata": {},
     "output_type": "execute_result"
    }
   ],
   "source": [
    "%%trino\n",
    "select 'allo' as X"
   ]
  },
  {
   "cell_type": "code",
   "execution_count": 3,
   "id": "f96505d6-4d94-4980-89eb-c6ab5f21cbba",
   "metadata": {},
   "outputs": [
    {
     "data": {
      "text/html": [
       "<table><tr style=\"border-bottom: 1px solid\"><td style=\"font-weight: bold\">node_id</td><td style=\"font-weight: bold\">http_uri</td><td style=\"font-weight: bold\">node_version</td><td style=\"font-weight: bold\">coordinator</td><td style=\"font-weight: bold\">state</td></tr><tr><td>ffffffff-ffff-ffff-ffff-ffffffffffff</td><td>http://10.0.0.18:8080</td><td>361</td><td>True</td><td>active</td></tr></table>"
      ],
      "text/plain": [
       "<IPython.core.display.HTML object>"
      ]
     },
     "execution_count": 3,
     "metadata": {},
     "output_type": "execute_result"
    }
   ],
   "source": [
    "%%trino\n",
    "SELECT * FROM system.runtime.nodes"
   ]
  },
  {
   "cell_type": "code",
   "execution_count": 4,
   "id": "6fac9bae-ed72-4de1-900d-6081fc59d7e9",
   "metadata": {},
   "outputs": [
    {
     "data": {
      "text/html": [
       "<table><tr style=\"border-bottom: 1px solid\"><td style=\"font-weight: bold\">node_id</td><td style=\"font-weight: bold\">http_uri</td><td style=\"font-weight: bold\">node_version</td><td style=\"font-weight: bold\">coordinator</td><td style=\"font-weight: bold\">state</td></tr><tr><td>ffffffff-ffff-ffff-ffff-ffffffffffff</td><td>http://10.0.0.18:8080</td><td>361</td><td>True</td><td>active</td></tr></table>"
      ],
      "text/plain": [
       "<IPython.core.display.HTML object>"
      ]
     },
     "execution_count": 4,
     "metadata": {},
     "output_type": "execute_result"
    }
   ],
   "source": [
    "%trino --limit 1 SELECT * FROM system.runtime.nodes"
   ]
  },
  {
   "cell_type": "code",
   "execution_count": 1,
   "id": "c06275a2-1b7f-4a2d-8936-10079ca7bbe4",
   "metadata": {},
   "outputs": [],
   "source": [
    "%config Trino.limit=2\n",
    "%config Trino.cacheTTL=5"
   ]
  },
  {
   "cell_type": "code",
   "execution_count": 2,
   "id": "0630643a-19de-4a22-a9bb-d3bc6df1a388",
   "metadata": {},
   "outputs": [
    {
     "name": "stdout",
     "output_type": "stream",
     "text": [
      "TTL 5 seconds expired, re-generating schema file: /tmp/trinodb.schema.json\n",
      "Schema file updated: /tmp/trinodb.schema.json\n"
     ]
    },
    {
     "data": {
      "text/html": [
       "<table><tr style=\"border-bottom: 1px solid\"><td style=\"font-weight: bold\">Table</td></tr><tr><td>customer</td></tr><tr><td>lineitem</td></tr><tr><td>nation</td></tr><tr><td>orders</td></tr><tr><td>part</td></tr></table>"
      ],
      "text/plain": [
       "<IPython.core.display.HTML object>"
      ]
     },
     "execution_count": 2,
     "metadata": {},
     "output_type": "execute_result"
    }
   ],
   "source": [
    "%%trino --limit 5\n",
    "SHOW TABLES FROM tpch.sf1"
   ]
  }
 ],
 "metadata": {
  "kernelspec": {
   "display_name": "Python 3 (ipykernel)",
   "language": "python",
   "name": "python3"
  },
  "language_info": {
   "codemirror_mode": {
    "name": "ipython",
    "version": 3
   },
   "file_extension": ".py",
   "mimetype": "text/x-python",
   "name": "python",
   "nbconvert_exporter": "python",
   "pygments_lexer": "ipython3",
   "version": "3.9.6"
  }
 },
 "nbformat": 4,
 "nbformat_minor": 5
}
