{
 "cells": [
  {
   "cell_type": "code",
   "execution_count": 3,
   "id": "64b7c645",
   "metadata": {},
   "outputs": [],
   "source": [
    "import findspark\n",
    "findspark.init()\n",
    "import json\n",
    "import pyspark\n",
    "from pyspark.sql import SparkSession\n",
    "from pyspark.sql.types import *"
   ]
  },
  {
   "cell_type": "code",
   "execution_count": null,
   "id": "d4a06452",
   "metadata": {},
   "outputs": [],
   "source": [
    "spark = SparkSession.builder.getOrCreate()"
   ]
  },
  {
   "cell_type": "code",
   "execution_count": 5,
   "id": "f27fd6ea",
   "metadata": {},
   "outputs": [
    {
     "name": "stdout",
     "output_type": "stream",
     "text": [
      "The sparksql extension is already loaded. To reload it, use:\n",
      "  %reload_ext sparksql\n"
     ]
    }
   ],
   "source": [
    "%load_ext sparksql"
   ]
  },
  {
   "cell_type": "code",
   "execution_count": 9,
   "id": "c1a4dce2",
   "metadata": {
    "tags": []
   },
   "outputs": [
    {
     "data": {
      "text/html": [
       "<table><tr style=\"border-bottom: 1px solid\"></tr></table>"
      ],
      "text/plain": [
       "<IPython.core.display.HTML object>"
      ]
     },
     "execution_count": 9,
     "metadata": {},
     "output_type": "execute_result"
    }
   ],
   "source": [
    "%%sparksql\n",
    "CREATE TABLE student (id INT, name STRING, age INT)\n",
    "USING\n",
    "    PARQUET\n"
   ]
  },
  {
   "cell_type": "code",
   "execution_count": null,
   "id": "6ee48bd4",
   "metadata": {
    "tags": []
   },
   "outputs": [],
   "source": [
    "%sparksql INSERT INTO student (id, name, age) VALUES(1, 'Alice', 11)\n",
    "%sparksql INSERT INTO student (id, name, age) VALUES(2, 'Bob', 12)\n",
    "%sparksql INSERT INTO student (id, name, age) VALUES(3, 'Eve', 13)"
   ]
  },
  {
   "cell_type": "code",
   "execution_count": 11,
   "id": "196bad6c",
   "metadata": {},
   "outputs": [
    {
     "name": "stdout",
     "output_type": "stream",
     "text": [
      "only showing top 2 row(s)\n"
     ]
    },
    {
     "data": {
      "text/html": [
       "<table><tr style=\"border-bottom: 1px solid\"><td style=\"font-weight: bold\">id</td><td style=\"font-weight: bold\">name</td><td style=\"font-weight: bold\">age</td></tr><tr><td>1</td><td>Alice</td><td>11</td></tr><tr><td>2</td><td>Bob</td><td>12</td></tr></table>"
      ],
      "text/plain": [
       "<IPython.core.display.HTML object>"
      ]
     },
     "execution_count": 11,
     "metadata": {},
     "output_type": "execute_result"
    }
   ],
   "source": [
    "%sparksql  SELECT * FROM student"
   ]
  },
  {
   "cell_type": "code",
   "execution_count": 13,
   "id": "f10ad4f9",
   "metadata": {},
   "outputs": [],
   "source": [
    "%config SparkSql.limit=2\n",
    "%config SparkSql.cacheTTL=20"
   ]
  },
  {
   "cell_type": "code",
   "execution_count": 14,
   "id": "3fdffde3",
   "metadata": {},
   "outputs": [
    {
     "name": "stdout",
     "output_type": "stream",
     "text": [
      "TTL 20 seconds expired, re-generating schema file: /tmp/sparkdb.schema.json\n",
      "Schema file updated: /tmp/sparkdb.schema.json\n",
      "cache dataframe with lazy load\n",
      "create temporary view `MY_VIEW`\n",
      "capture dataframe to local variable `myDf`\n",
      "only showing top 2 row(s)\n"
     ]
    },
    {
     "data": {
      "text/html": [
       "<table><tr style=\"border-bottom: 1px solid\"><td style=\"font-weight: bold\">id</td><td style=\"font-weight: bold\">name</td><td style=\"font-weight: bold\">age</td></tr><tr><td>1</td><td>Alice</td><td>11</td></tr><tr><td>3</td><td>Eve</td><td>13</td></tr></table>"
      ],
      "text/plain": [
       "<IPython.core.display.HTML object>"
      ]
     },
     "execution_count": 14,
     "metadata": {},
     "output_type": "execute_result"
    }
   ],
   "source": [
    "%%sparksql -c -v MY_VIEW -d myDf\n",
    "SELECT * FROM student"
   ]
  },
  {
   "cell_type": "code",
   "execution_count": 15,
   "id": "0b3d20f1",
   "metadata": {},
   "outputs": [
    {
     "name": "stdout",
     "output_type": "stream",
     "text": [
      "+---+-----+---+\n",
      "| id| name|age|\n",
      "+---+-----+---+\n",
      "|  1|Alice| 11|\n",
      "|  3|  Eve| 13|\n",
      "|  2|  Bob| 12|\n",
      "+---+-----+---+\n",
      "\n"
     ]
    }
   ],
   "source": [
    "myDf.show()"
   ]
  },
  {
   "cell_type": "code",
   "execution_count": 16,
   "id": "82ced70d",
   "metadata": {},
   "outputs": [
    {
     "name": "stdout",
     "output_type": "stream",
     "text": [
      "+---+-----+---+\n",
      "| id| name|age|\n",
      "+---+-----+---+\n",
      "|  1|Alice| 11|\n",
      "|  3|  Eve| 13|\n",
      "|  2|  Bob| 12|\n",
      "+---+-----+---+\n",
      "\n"
     ]
    }
   ],
   "source": [
    "spark.table('MY_VIEW').show()"
   ]
  },
  {
   "cell_type": "code",
   "execution_count": 17,
   "id": "8294b80d",
   "metadata": {},
   "outputs": [
    {
     "name": "stdout",
     "output_type": "stream",
     "text": [
      "only showing top 2 row(s)\n"
     ]
    },
    {
     "data": {
      "text/html": [
       "<table><tr style=\"border-bottom: 1px solid\"><td style=\"font-weight: bold\">id</td><td style=\"font-weight: bold\">name</td><td style=\"font-weight: bold\">age</td></tr><tr><td>1</td><td>Alice</td><td>11</td></tr><tr><td>3</td><td>Eve</td><td>13</td></tr></table>"
      ],
      "text/plain": [
       "<IPython.core.display.HTML object>"
      ]
     },
     "execution_count": 17,
     "metadata": {},
     "output_type": "execute_result"
    }
   ],
   "source": [
    "%%sparksql\n",
    "-- the sql-language-server uses the schema file to suggest\n",
    "-- code completions. While editing press tab to trigger auto completion.\n",
    "SELECT\n",
    "    s.id,\n",
    "    s.name,\n",
    "    s.age\n",
    "FROM\n",
    "    student AS s"
   ]
  },
  {
   "cell_type": "code",
   "execution_count": 12,
   "id": "922cb48c",
   "metadata": {},
   "outputs": [
    {
     "name": "stdout",
     "output_type": "stream",
     "text": [
      "\n",
      "--start-sql-syntax\n",
      "SELECT\n",
      "    *\n",
      "FROM\n",
      "    student AS s\n",
      "--end-sql-syntax\n",
      "\n"
     ]
    }
   ],
   "source": [
    "# declare a python string\n",
    "sql = '''\n",
    "--start-sparksql\n",
    "SELECT\n",
    "    *\n",
    "FROM\n",
    "    student AS s\n",
    "--end-sparksql\n",
    "'''\n",
    "print(sql)"
   ]
  },
  {
   "cell_type": "code",
   "execution_count": 13,
   "id": "a158e7f8",
   "metadata": {},
   "outputs": [
    {
     "name": "stdout",
     "output_type": "stream",
     "text": [
      "+---+-----+---+\n",
      "| id| name|age|\n",
      "+---+-----+---+\n",
      "|  1|Alice| 11|\n",
      "|  2|  Bob| 12|\n",
      "|  3|  Eve| 13|\n",
      "+---+-----+---+\n",
      "\n"
     ]
    }
   ],
   "source": [
    "spark.sql(sql).show()"
   ]
  },
  {
   "cell_type": "markdown",
   "id": "c5d9e0cb",
   "metadata": {
    "tags": []
   },
   "source": [
    "### Displaying the output of multiple line magic in a cell\n",
    "Normally IPython only displays the output of the last statement. However it can be handy to run multiple sql magics in a single cell and see the output of each execution. Setting `ast_node_interactivity` to `all` will enable that."
   ]
  },
  {
   "cell_type": "code",
   "execution_count": 18,
   "id": "2c0a2b8d",
   "metadata": {
    "tags": []
   },
   "outputs": [],
   "source": [
    "from IPython.core.interactiveshell import InteractiveShell\n",
    "InteractiveShell.ast_node_interactivity = \"all\""
   ]
  },
  {
   "cell_type": "code",
   "execution_count": 19,
   "id": "3deed5fa",
   "metadata": {
    "tags": []
   },
   "outputs": [
    {
     "name": "stdout",
     "output_type": "stream",
     "text": [
      "Results where age below 12\n"
     ]
    },
    {
     "data": {
      "text/html": [
       "<table><tr style=\"border-bottom: 1px solid\"><td style=\"font-weight: bold\">id</td><td style=\"font-weight: bold\">name</td><td style=\"font-weight: bold\">age</td></tr><tr><td>1</td><td>Alice</td><td>11</td></tr></table>"
      ],
      "text/plain": [
       "<IPython.core.display.HTML object>"
      ]
     },
     "execution_count": 19,
     "metadata": {},
     "output_type": "execute_result"
    },
    {
     "name": "stdout",
     "output_type": "stream",
     "text": [
      "Results where age above 12\n"
     ]
    },
    {
     "data": {
      "text/html": [
       "<table><tr style=\"border-bottom: 1px solid\"><td style=\"font-weight: bold\">id</td><td style=\"font-weight: bold\">name</td><td style=\"font-weight: bold\">age</td></tr><tr><td>3</td><td>Eve</td><td>13</td></tr><tr><td>2</td><td>Bob</td><td>12</td></tr></table>"
      ],
      "text/plain": [
       "<IPython.core.display.HTML object>"
      ]
     },
     "execution_count": 19,
     "metadata": {},
     "output_type": "execute_result"
    }
   ],
   "source": [
    "print('Results where age below 12')\n",
    "%sparksql SELECT * FROM student WHERE age < 12\n",
    "print('Results where age above 12')\n",
    "%sparksql SELECT * FROM student WHERE age >= 12"
   ]
  },
  {
   "cell_type": "code",
   "execution_count": 20,
   "id": "99f22aaf",
   "metadata": {},
   "outputs": [
    {
     "data": {
      "text/plain": [
       "\u001b[0;31mDocstring:\u001b[0m\n",
       "::\n",
       "\n",
       "  %sparksql [-d DATAFRAME] [-c] [-e] [-v VIEW] [-l LIMIT] [-f OUTPUTFILE]\n",
       "                [-t CACHETTL]\n",
       "                [sql ...]\n",
       "\n",
       "Magic that works both as %sparksql and as %%sparksql\n",
       "\n",
       "positional arguments:\n",
       "  sql                   SQL statement\n",
       "\n",
       "optional arguments:\n",
       "  -d DATAFRAME, --dataframe DATAFRAME\n",
       "                        Capture dataframe in a local variable\n",
       "  -c, --cache           Cache dataframe\n",
       "  -e, --eager           Cache dataframe with eager load\n",
       "  -v VIEW, --view VIEW  Create or replace temporary view\n",
       "  -l LIMIT, --limit LIMIT\n",
       "                        The maximum number of rows to display\n",
       "  -f OUTPUTFILE, --outputFile OUTPUTFILE\n",
       "                        Output schema to specified file, defaults to\n",
       "                        /tmp/sparkdb.schema.json\n",
       "  -t CACHETTL, --cacheTTL CACHETTL\n",
       "                        Re-generate output schema file if older than time\n",
       "                        specified (defaults to 3600 seconds)\n",
       "\u001b[0;31mFile:\u001b[0m      ~/jupyter-ext/sparksql_editor/sparksql/sparksql.py\n"
      ]
     },
     "metadata": {},
     "output_type": "display_data"
    }
   ],
   "source": [
    "%%sparksql?"
   ]
  },
  {
   "cell_type": "markdown",
   "id": "26edaff0",
   "metadata": {
    "tags": []
   },
   "source": [
    "### Predefined Configuration\n",
    "\n",
    "SparkSql magic can be pre-configured using the ipython profile_default. For example you can set the location of the schema file output location. To do this edit the ipython_config.py file.\n",
    "\n",
    "\n",
    "```bash\n",
    "$ cat ~/.ipython/profile_default/ipython_config.py \n",
    "\n",
    "# get the config\n",
    "c = get_config()\n",
    "\n",
    "# pre-load the sparksql magic\n",
    "c.InteractiveShellApp.extensions = [\n",
    "    'sparksql'\n",
    "]\n",
    "\n",
    "# pre-configure the SparkSql magic.\n",
    "c.SparkSql.limit=20\n",
    "c.SparkSql.cacheTTL=3600\n",
    "c.SparkSql.outputFile='/tmp/sparkdb.schema.json'\n",
    "\n",
    "\n",
    "# pre-configure to display all cell outputs in notebook\n",
    "from IPython.core.interactiveshell import InteractiveShell\n",
    "InteractiveShell.ast_node_interactivity = 'all'\n",
    "```"
   ]
  },
  {
   "cell_type": "code",
   "execution_count": null,
   "id": "60a60cd3",
   "metadata": {},
   "outputs": [],
   "source": []
  }
 ],
 "metadata": {
  "kernelspec": {
   "display_name": "Python 3 (ipykernel)",
   "language": "python",
   "name": "python3"
  },
  "language_info": {
   "codemirror_mode": {
    "name": "ipython",
    "version": 3
   },
   "file_extension": ".py",
   "mimetype": "text/x-python",
   "name": "python",
   "nbconvert_exporter": "python",
   "pygments_lexer": "ipython3",
   "version": "3.8.10"
  }
 },
 "nbformat": 4,
 "nbformat_minor": 5
}
