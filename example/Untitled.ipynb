{
 "cells": [
  {
   "cell_type": "code",
   "execution_count": null,
   "id": "55cea117",
   "metadata": {},
   "outputs": [],
   "source": [
    "%%sparksql\n",
    "\n",
    "SELECT\n",
    "g.anonymizer_status,\n",
    "g.area_code,\n",
    "g.asn,\n",
    "g.city,\n",
    "g.city_cf,\n",
    "g.consistency_code,\n",
    "g.proxy_last_detected,\n",
    "g.http.components.PHP.categories\n",
    "FROM\n",
    "hogwartsu.opensource.shodan g"
   ]
  }
 ],
 "metadata": {
  "kernelspec": {
   "display_name": "Python 3 (ipykernel)",
   "language": "python",
   "name": "python3"
  },
  "language_info": {
   "codemirror_mode": {
    "name": "ipython",
    "version": 3
   },
   "file_extension": ".py",
   "mimetype": "text/x-python",
   "name": "python",
   "nbconvert_exporter": "python",
   "pygments_lexer": "ipython3",
   "version": "3.8.10"
  }
 },
 "nbformat": 4,
 "nbformat_minor": 5
}
