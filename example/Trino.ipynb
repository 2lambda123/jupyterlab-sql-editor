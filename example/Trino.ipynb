{
 "cells": [
  {
   "cell_type": "markdown",
   "id": "7d7cef9a-4185-4374-8a0e-5af2139bde7a",
   "metadata": {},
   "source": [
    "    Normally IPython only displays the output of the last statement. However it can be handy to run multiple sql magics in a single cell and see the output of each execution. Setting `ast_node_interactivity` to `all` will enable that.\n"
   ]
  },
  {
   "cell_type": "code",
   "execution_count": 1,
   "id": "5bd98db3-20bd-425f-8227-e56dbb17159e",
   "metadata": {},
   "outputs": [],
   "source": [
    "# Display all cell outputs in notebook\n",
    "from IPython.core.interactiveshell import InteractiveShell\n",
    "InteractiveShell.ast_node_interactivity = 'all'"
   ]
  },
  {
   "cell_type": "code",
   "execution_count": 2,
   "id": "813f6c4c-31d5-4133-bf5a-c19166175fc5",
   "metadata": {},
   "outputs": [],
   "source": [
    "%load_ext ipython_magic.trino"
   ]
  },
  {
   "cell_type": "code",
   "execution_count": 3,
   "id": "ebe21bca-8dc0-4700-81f8-0c410c007c06",
   "metadata": {},
   "outputs": [],
   "source": [
    "\n",
    "%config Trino.host='localhost'\n",
    "%config Trino.port=8080\n",
    "%config Trino.httpScheme='http'\n",
    "%config Trino.auth=None\n",
    "%config Trino.user='the-user'\n",
    "\n",
    "%config Trino.cacheTTL=3600\n",
    "%config Trino.outputFile=\"/tmp/trinodb.schema.json\"\n",
    "\n",
    "# comma seperated list of schema to cache in the schema file\n",
    "%config Trino.catalogs=\"system,tpch\"\n"
   ]
  },
  {
   "cell_type": "markdown",
   "id": "51c6d367-26c0-4cf3-8be8-3a5072c335f0",
   "metadata": {
    "jp-MarkdownHeadingCollapsed": true,
    "tags": []
   },
   "source": [
    "    In production environment you will want to pass in an authentiction\n",
    "\n",
    "```python\n",
    "    import trino\n",
    "    %config Trino.auth=trino.auth.BasicAuthentication(\"principal id\", \"password\")\n",
    "    %config Trino.user=None\n",
    "```\n",
    "    See https://github.com/trinodb/trino-python-client/blob/master/trino/auth.py for more details\n"
   ]
  },
  {
   "cell_type": "code",
   "execution_count": 4,
   "id": "49829f2e-30ea-4101-a524-ce8489c662b3",
   "metadata": {
    "tags": []
   },
   "outputs": [
    {
     "data": {
      "text/html": [
       "<table><tr style=\"border-bottom: 1px solid\"><td style=\"font-weight: bold\">_col0</td></tr><tr><td>hello</td></tr></table>"
      ],
      "text/plain": [
       "<IPython.core.display.HTML object>"
      ]
     },
     "execution_count": 4,
     "metadata": {},
     "output_type": "execute_result"
    }
   ],
   "source": [
    "%trino SELECT 'hello'"
   ]
  },
  {
   "cell_type": "code",
   "execution_count": 5,
   "id": "97f58dfa-3f02-4f21-ad23-9b55569da98c",
   "metadata": {
    "tags": []
   },
   "outputs": [],
   "source": [
    "#%trino SHOW CATALOGS"
   ]
  },
  {
   "cell_type": "code",
   "execution_count": 8,
   "id": "d98586cb-c056-41e4-a56a-16622ff2c98a",
   "metadata": {},
   "outputs": [
    {
     "data": {
      "text/plain": [
       "'SELECT *\\nFROM\\n    tpch.tiny.orders AS ord'"
      ]
     },
     "execution_count": 8,
     "metadata": {},
     "output_type": "execute_result"
    }
   ],
   "source": [
    "%%trino --limit 2 --output sql\n",
    "SELECT *\n",
    "FROM\n",
    "    tpch.tiny.orders AS ord\n"
   ]
  },
  {
   "cell_type": "code",
   "execution_count": 7,
   "id": "65010544-c6e5-42de-8c23-89e305cb63cd",
   "metadata": {},
   "outputs": [
    {
     "name": "stdout",
     "output_type": "stream",
     "text": [
      "Saved results to pandas dataframe named `x`\n",
      "Only showing top 2 row(s)\n"
     ]
    },
    {
     "data": {
      "application/vnd.jupyter.widget-view+json": {
       "model_id": "281aab1a3a88441c8ce54e53d3955421",
       "version_major": 2,
       "version_minor": 0
      },
      "text/plain": [
       "DataGrid(auto_fit_params={'area': 'all', 'padding': 30, 'numCols': None}, corner_renderer=None, default_render…"
      ]
     },
     "metadata": {},
     "output_type": "display_data"
    }
   ],
   "source": [
    "%%trino --limit 2 --dataframe x --output grid\n",
    "SELECT\n",
    "    ord.orderkey,\n",
    "    ord.custkey,\n",
    "    ord.orderstatus,\n",
    "    ord.totalprice,\n",
    "    ord.orderdate,\n",
    "    ord.orderpriority,\n",
    "    ord.clerk,\n",
    "    ord.shippriority,\n",
    "    ord.comment\n",
    "FROM\n",
    "    tpch.tiny.orders AS ord\n"
   ]
  },
  {
   "cell_type": "code",
   "execution_count": null,
   "id": "2e050ea0-5672-4622-b507-cd0cdd02f145",
   "metadata": {},
   "outputs": [],
   "source": []
  },
  {
   "cell_type": "code",
   "execution_count": null,
   "id": "85da37a3-6a53-4ae5-9ed5-54aea2257dff",
   "metadata": {},
   "outputs": [],
   "source": []
  },
  {
   "cell_type": "code",
   "execution_count": 7,
   "id": "a3c7a7e2-b6c8-4da9-b3be-71803dea7c13",
   "metadata": {},
   "outputs": [
    {
     "data": {
      "text/html": [
       "<table><tr style=\"border-bottom: 1px solid\"><td style=\"font-weight: bold\">orderkey</td><td style=\"font-weight: bold\">partkey</td><td style=\"font-weight: bold\">suppkey</td><td style=\"font-weight: bold\">linenumber</td><td style=\"font-weight: bold\">quantity</td><td style=\"font-weight: bold\">extendedprice</td><td style=\"font-weight: bold\">discount</td><td style=\"font-weight: bold\">tax</td><td style=\"font-weight: bold\">returnflag</td><td style=\"font-weight: bold\">linestatus</td><td style=\"font-weight: bold\">shipdate</td><td style=\"font-weight: bold\">commitdate</td><td style=\"font-weight: bold\">receiptdate</td><td style=\"font-weight: bold\">shipinstruct</td><td style=\"font-weight: bold\">shipmode</td><td style=\"font-weight: bold\">comment</td><td style=\"font-weight: bold\">orderpriority</td></tr><tr><td>1</td><td>155189345</td><td>7689361</td><td>1</td><td>17.0</td><td>24252.03</td><td>0.04</td><td>0.02</td><td>N</td><td>O</td><td>1996-03-13</td><td>1996-02-12</td><td>1996-03-22</td><td>DELIVER IN PERSON</td><td>TRUCK</td><td>egular courts above the</td><td>5-LOW</td></tr><tr><td>1</td><td>67309080</td><td>7309081</td><td>2</td><td>36.0</td><td>39085.92</td><td>0.09</td><td>0.06</td><td>N</td><td>O</td><td>1996-04-12</td><td>1996-02-28</td><td>1996-04-20</td><td>TAKE BACK RETURN</td><td>MAIL</td><td>ly final dependencies: slyly bold </td><td>5-LOW</td></tr><tr><td>1</td><td>63699776</td><td>3699777</td><td>3</td><td>8.0</td><td>14180.72</td><td>0.1</td><td>0.02</td><td>N</td><td>O</td><td>1996-01-29</td><td>1996-03-05</td><td>1996-01-31</td><td>TAKE BACK RETURN</td><td>REG AIR</td><td>riously. regular, express dep</td><td>5-LOW</td></tr><tr><td>1</td><td>2131495</td><td>4631496</td><td>4</td><td>28.0</td><td>42738.92</td><td>0.09</td><td>0.06</td><td>N</td><td>O</td><td>1996-04-21</td><td>1996-03-30</td><td>1996-05-16</td><td>NONE</td><td>AIR</td><td>lites. fluffily even de</td><td>5-LOW</td></tr><tr><td>1</td><td>24026634</td><td>1526641</td><td>5</td><td>24.0</td><td>37426.32</td><td>0.1</td><td>0.04</td><td>N</td><td>O</td><td>1996-03-30</td><td>1996-03-14</td><td>1996-04-01</td><td>NONE</td><td>FOB</td><td> pending foxes. slyly re</td><td>5-LOW</td></tr><tr><td>1</td><td>15634450</td><td>634453</td><td>6</td><td>32.0</td><td>44277.44</td><td>0.07</td><td>0.02</td><td>N</td><td>O</td><td>1996-01-30</td><td>1996-02-07</td><td>1996-02-03</td><td>DELIVER IN PERSON</td><td>MAIL</td><td>arefully slyly ex</td><td>5-LOW</td></tr><tr><td>2</td><td>106169722</td><td>1169743</td><td>1</td><td>38.0</td><td>67883.96</td><td>0.0</td><td>0.05</td><td>N</td><td>O</td><td>1997-01-28</td><td>1997-01-14</td><td>1997-02-02</td><td>TAKE BACK RETURN</td><td>RAIL</td><td>ven requests. deposits breach a</td><td>1-URGENT</td></tr><tr><td>3</td><td>4296962</td><td>1796963</td><td>1</td><td>45.0</td><td>88143.75</td><td>0.06</td><td>0.0</td><td>R</td><td>F</td><td>1994-02-02</td><td>1994-01-04</td><td>1994-02-23</td><td>NONE</td><td>AIR</td><td>ongside of the furiously brave acco</td><td>5-LOW</td></tr><tr><td>3</td><td>19035429</td><td>6535433</td><td>2</td><td>49.0</td><td>66810.03</td><td>0.1</td><td>0.0</td><td>R</td><td>F</td><td>1993-11-09</td><td>1993-12-20</td><td>1993-11-24</td><td>TAKE BACK RETURN</td><td>RAIL</td><td> unusual accounts. eve</td><td>5-LOW</td></tr><tr><td>3</td><td>128448229</td><td>3448254</td><td>3</td><td>27.0</td><td>31611.6</td><td>0.06</td><td>0.07</td><td>A</td><td>F</td><td>1994-01-16</td><td>1993-11-22</td><td>1994-01-23</td><td>DELIVER IN PERSON</td><td>SHIP</td><td>nal foxes wake. </td><td>5-LOW</td></tr><tr><td>3</td><td>29379610</td><td>1879613</td><td>4</td><td>2.0</td><td>3376.3</td><td>0.01</td><td>0.06</td><td>A</td><td>F</td><td>1993-12-04</td><td>1994-01-07</td><td>1994-01-01</td><td>NONE</td><td>TRUCK</td><td>y. fluffily pending d</td><td>5-LOW</td></tr><tr><td>3</td><td>183094077</td><td>594132</td><td>5</td><td>28.0</td><td>29733.76</td><td>0.04</td><td>0.0</td><td>R</td><td>F</td><td>1993-12-14</td><td>1994-01-10</td><td>1994-01-01</td><td>TAKE BACK RETURN</td><td>FOB</td><td>ages nag slyly pending</td><td>5-LOW</td></tr><tr><td>3</td><td>62142591</td><td>9642610</td><td>6</td><td>26.0</td><td>42392.74</td><td>0.1</td><td>0.02</td><td>A</td><td>F</td><td>1993-10-29</td><td>1993-12-18</td><td>1993-11-04</td><td>TAKE BACK RETURN</td><td>RAIL</td><td>ges sleep after the caref</td><td>5-LOW</td></tr><tr><td>4</td><td>88034684</td><td>5534709</td><td>1</td><td>30.0</td><td>48428.4</td><td>0.03</td><td>0.08</td><td>N</td><td>O</td><td>1996-01-10</td><td>1995-12-14</td><td>1996-01-18</td><td>DELIVER IN PERSON</td><td>REG AIR</td><td>- quickly regular packages sleep. idly</td><td>5-LOW</td></tr><tr><td>5</td><td>108569283</td><td>8569284</td><td>1</td><td>15.0</td><td>20202.9</td><td>0.02</td><td>0.04</td><td>R</td><td>F</td><td>1994-10-31</td><td>1994-08-31</td><td>1994-11-20</td><td>NONE</td><td>AIR</td><td>ts wake furiously </td><td>5-LOW</td></tr><tr><td>5</td><td>123926789</td><td>3926790</td><td>2</td><td>26.0</td><td>47049.34</td><td>0.07</td><td>0.08</td><td>R</td><td>F</td><td>1994-10-16</td><td>1994-09-25</td><td>1994-10-19</td><td>NONE</td><td>FOB</td><td>sts use slyly quickly special instruc</td><td>5-LOW</td></tr><tr><td>5</td><td>37530180</td><td>30184</td><td>3</td><td>50.0</td><td>60415.5</td><td>0.08</td><td>0.03</td><td>A</td><td>F</td><td>1994-08-08</td><td>1994-10-13</td><td>1994-08-26</td><td>DELIVER IN PERSON</td><td>AIR</td><td>eodolites. fluffily unusual</td><td>5-LOW</td></tr><tr><td>6</td><td>139635455</td><td>2135469</td><td>1</td><td>37.0</td><td>51188.39</td><td>0.08</td><td>0.03</td><td>A</td><td>F</td><td>1992-04-27</td><td>1992-05-15</td><td>1992-05-02</td><td>TAKE BACK RETURN</td><td>TRUCK</td><td>p furiously special foxes</td><td>4-NOT SPECIFIED</td></tr><tr><td>7</td><td>182051839</td><td>9551894</td><td>1</td><td>12.0</td><td>21380.76</td><td>0.07</td><td>0.03</td><td>N</td><td>O</td><td>1996-05-07</td><td>1996-03-13</td><td>1996-06-03</td><td>TAKE BACK RETURN</td><td>FOB</td><td>ss pinto beans wake against th</td><td>2-HIGH</td></tr><tr><td>7</td><td>145242743</td><td>7742758</td><td>2</td><td>9.0</td><td>15106.32</td><td>0.08</td><td>0.08</td><td>N</td><td>O</td><td>1996-02-01</td><td>1996-03-02</td><td>1996-02-19</td><td>TAKE BACK RETURN</td><td>SHIP</td><td>es. instructions</td><td>2-HIGH</td></tr></table>"
      ],
      "text/plain": [
       "<IPython.core.display.HTML object>"
      ]
     },
     "execution_count": 7,
     "metadata": {},
     "output_type": "execute_result"
    }
   ],
   "source": [
    "%%trino\n",
    "SELECT\n",
    "    lin.orderkey,\n",
    "    lin.partkey,\n",
    "    lin.suppkey,\n",
    "    lin.linenumber,\n",
    "    lin.quantity,\n",
    "    lin.extendedprice,\n",
    "    lin.discount,\n",
    "    lin.tax,\n",
    "    lin.returnflag,\n",
    "    lin.linestatus,\n",
    "    lin.shipdate,\n",
    "    lin.commitdate,\n",
    "    lin.receiptdate,\n",
    "    lin.shipinstruct,\n",
    "    lin.shipmode,\n",
    "    lin.comment,\n",
    "    ord.orderpriority\n",
    "FROM\n",
    "    tpch.sf1000.lineitem AS lin\n",
    "    INNER JOIN tpch.sf1.orders AS ord ON ord.orderkey = lin.orderkey\n"
   ]
  },
  {
   "cell_type": "code",
   "execution_count": 9,
   "id": "1c2799a2-a455-49e3-9dd1-0d17fa82a556",
   "metadata": {},
   "outputs": [
    {
     "data": {
      "text/plain": [
       "\u001b[0;31mDocstring:\u001b[0m\n",
       "::\n",
       "\n",
       "  %trino [-l max_rows] [-r all|local|none] [-d name]\n",
       "             [-o sql|json|html|grid|skip|none]\n",
       "             [sql [sql ...]]\n",
       "\n",
       "Magic that works both as %trino and as %%trino\n",
       "\n",
       "positional arguments:\n",
       "  sql                   SQL statement to execute\n",
       "\n",
       "optional arguments:\n",
       "  -l max_rows, --limit max_rows\n",
       "                        The maximum number of rows to display. A value of zero\n",
       "                        is equivalent to `--output skip`\n",
       "  -r <all|local|none>, --refresh <all|local|none>\n",
       "                        Force the regeneration of the schema cache file. The\n",
       "                        `local` option will only update tables/views created\n",
       "                        in the local Spark context.\n",
       "  -d name, --dataframe name\n",
       "                        Capture results in pandas dataframe\n",
       "  -o <sql|json|html|grid|skip|none>, --output <sql|json|html|grid|skip|none>\n",
       "                        Output format. Defaults to html. The `sql` option\n",
       "                        prints the SQL statement that will be executed (useful\n",
       "                        to test jinja templated statements)\n",
       "\u001b[0;31mFile:\u001b[0m      /data/dev/jupyterlab_sql_editor/ipython_magic/trino/trino.py\n"
      ]
     },
     "metadata": {},
     "output_type": "display_data"
    }
   ],
   "source": [
    "%%trino?"
   ]
  },
  {
   "cell_type": "code",
   "execution_count": 9,
   "id": "4b9f4918-7585-4a28-8d17-d31942e02aff",
   "metadata": {},
   "outputs": [
    {
     "name": "stdout",
     "output_type": "stream",
     "text": [
      "Schema file updated: /tmp/trinodb.schema.json\n"
     ]
    }
   ],
   "source": [
    "%trino --refresh all"
   ]
  }
 ],
 "metadata": {
  "kernelspec": {
   "display_name": "Python 3 (ipykernel)",
   "language": "python",
   "name": "python3"
  },
  "language_info": {
   "codemirror_mode": {
    "name": "ipython",
    "version": 3
   },
   "file_extension": ".py",
   "mimetype": "text/x-python",
   "name": "python",
   "nbconvert_exporter": "python",
   "pygments_lexer": "ipython3",
   "version": "3.8.0"
  }
 },
 "nbformat": 4,
 "nbformat_minor": 5
}
