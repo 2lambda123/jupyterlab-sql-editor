{
 "cells": [
  {
   "cell_type": "code",
   "execution_count": null,
   "source": [
    "%%sparksql --dataframe df -c --eager -v MY_VIEW --limit 12 -f adir/out.json -t 60\n",
    "-- cell magic\n",
    "SELECT *\n",
    "FROM student AS cellmagic\n"
   ],
   "outputs": [],
   "metadata": {}
  },
  {
   "cell_type": "code",
   "execution_count": null,
   "source": [
    "%sparksql -d df SELECT * from student where x=1"
   ],
   "outputs": [],
   "metadata": {}
  },
  {
   "cell_type": "code",
   "execution_count": null,
   "source": [
    "%sparksql --dataframe df -c --eager -v MY_VIEW --limit 12 -f adir/out.json -t 60 SELECT * from student -- line magic using no argument options like --eager"
   ],
   "outputs": [],
   "metadata": {}
  },
  {
   "cell_type": "code",
   "execution_count": null,
   "source": [
    "\n",
    "%sparksql SELECT * FROM tab WHERE x = 1\n",
    "\n",
    "\n",
    "# select is not be highlighted anymore, but it does require a blank line (line 3 above)\n",
    "%sparksql  --cache   SELECT * FROM tab WHERE x = 2\n",
    "\n",
    "%sparksql --cache SELECT * FROM tab WHERE x = 3\n"
   ],
   "outputs": [],
   "metadata": {}
  },
  {
   "cell_type": "code",
   "execution_count": null,
   "source": [
    "# mix python and SQL\n",
    "\n",
    "# python import\n",
    "import pyspark\n",
    "\n",
    "%sparksql SELECT s.age FROM student AS linemagic1 -- line magic in a mix cell\n",
    "\n",
    "%sparksql SELECT s.age FROM student AS linemagic2 -- another line magic in a mix cell\n",
    "\n",
    "# a python string with SQL within it\n",
    "sql = '''\n",
    "--start-sparksql anything here is ignored and is not included in the SQL statement for LSP\n",
    "select s.age from student as frompythonstring\n",
    "--end-sparksql\n",
    "'''\n",
    "\n",
    "# back to python\n",
    "print(sql)\n",
    "\n",
    "spark.sql(sql).show()"
   ],
   "outputs": [],
   "metadata": {}
  },
  {
   "cell_type": "code",
   "execution_count": 4,
   "source": [
    "%%bash\n",
    "rm ../../.virtual_documents/jupyterlab_sql_editor/example/*"
   ],
   "outputs": [],
   "metadata": {}
  },
  {
   "cell_type": "code",
   "execution_count": 1,
   "source": [
    "%%bash\n",
    "ls -lhn ../../.virtual_documents/jupyterlab_sql_editor/example/"
   ],
   "outputs": [
    {
     "output_type": "stream",
     "name": "stdout",
     "text": [
      "total 80\n",
      "-rw-r--r--  1 501  20   1.7K 31 Aug 22:44 SparkSqlSyntaxAndLSP.ipynb\n",
      "-rw-r--r--  1 501  20    76B 31 Aug 22:44 SparkSqlSyntaxAndLSP.ipynb.python-14(sql).sql\n",
      "-rw-r--r--  1 501  20    68B 31 Aug 22:44 SparkSqlSyntaxAndLSP.ipynb.python-15(sql).sql\n",
      "-rw-r--r--  1 501  20    47B 31 Aug 22:44 SparkSqlSyntaxAndLSP.ipynb.python-16(sql).sql\n",
      "-rw-r--r--  1 501  20    31B 31 Aug 22:44 SparkSqlSyntaxAndLSP.ipynb.python-17(sql).sql\n",
      "-rw-r--r--  1 501  20    30B 31 Aug 22:44 SparkSqlSyntaxAndLSP.ipynb.python-18(sql).sql\n",
      "-rw-r--r--  1 501  20    30B 31 Aug 22:44 SparkSqlSyntaxAndLSP.ipynb.python-19(sql).sql\n",
      "-rw-r--r--  1 501  20    75B 31 Aug 22:44 SparkSqlSyntaxAndLSP.ipynb.python-20(sql).sql\n",
      "-rw-r--r--  1 501  20    62B 31 Aug 22:44 SparkSqlSyntaxAndLSP.ipynb.python-21(sql).sql\n",
      "-rw-r--r--  1 501  20    49B 31 Aug 22:44 SparkSqlSyntaxAndLSP.ipynb.python-22(sql).sql\n"
     ]
    }
   ],
   "metadata": {}
  },
  {
   "cell_type": "code",
   "execution_count": 2,
   "source": [
    "%%bash\n",
    "cat ../../.virtual_documents/jupyterlab_sql_editor/example/*.sql"
   ],
   "outputs": [
    {
     "output_type": "stream",
     "name": "stdout",
     "text": [
      "SELECT s.age FROM student AS linemagic2 -- another line magic in a mix cell\n",
      "SELECT s.age FROM student AS linemagic1 -- line magic in a mix cell\n",
      "select s.age from student as frompythonstring\n",
      "\n",
      "SELECT * FROM tab WHERE x = 3 \n",
      "SELECT * FROM tab WHERE x = 2\n",
      "SELECT * FROM tab WHERE x = 1\n",
      "SELECT * from student -- line magic using no argument options like --eager\n",
      "SELECT * from student -- line magic first line of cell uses ^\n",
      "-- cell magic\n",
      "SELECT *\n",
      "FROM student AS cellmagic\n"
     ]
    }
   ],
   "metadata": {}
  },
  {
   "cell_type": "code",
   "execution_count": null,
   "source": [],
   "outputs": [],
   "metadata": {}
  }
 ],
 "metadata": {
  "kernelspec": {
   "display_name": "Python 3 (ipykernel)",
   "language": "python",
   "name": "python3"
  },
  "language_info": {
   "codemirror_mode": {
    "name": "ipython",
    "version": 3
   },
   "file_extension": ".py",
   "mimetype": "text/x-python",
   "name": "python",
   "nbconvert_exporter": "python",
   "pygments_lexer": "ipython3",
   "version": "3.9.6"
  }
 },
 "nbformat": 4,
 "nbformat_minor": 5
}