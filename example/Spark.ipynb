{
 "cells": [
  {
   "cell_type": "code",
   "execution_count": 1,
   "id": "64b7c645",
   "metadata": {},
   "outputs": [],
   "source": [
    "import json\n",
    "import pyspark\n",
    "from pyspark.sql import SparkSession\n",
    "from pyspark.sql.types import *"
   ]
  },
  {
   "cell_type": "code",
   "execution_count": null,
   "id": "d4a06452",
   "metadata": {},
   "outputs": [],
   "source": [
    "spark = SparkSession.builder.getOrCreate()"
   ]
  },
  {
   "cell_type": "markdown",
   "id": "5fe87250-6936-4de6-bacf-0490a5812516",
   "metadata": {},
   "source": [
    "    Normally IPython only displays the output of the last statement. However it can be handy to run multiple sql magics in a single cell and see the output of each execution. Setting `ast_node_interactivity` to `all` will enable that.\n"
   ]
  },
  {
   "cell_type": "code",
   "execution_count": 3,
   "id": "38907ced-2b87-4e5a-b278-3966945a3979",
   "metadata": {},
   "outputs": [],
   "source": [
    "from IPython.core.interactiveshell import InteractiveShell\n",
    "InteractiveShell.ast_node_interactivity = 'all'"
   ]
  },
  {
   "cell_type": "code",
   "execution_count": 4,
   "id": "f27fd6ea",
   "metadata": {
    "tags": []
   },
   "outputs": [],
   "source": [
    "%load_ext ipython_magic.sparksql"
   ]
  },
  {
   "cell_type": "code",
   "execution_count": 5,
   "id": "054d2685-5ce9-4be6-8784-e604abc621e0",
   "metadata": {},
   "outputs": [],
   "source": [
    "%config SparkSql.cacheTTL=3600\n",
    "%config SparkSql.outputFile=\"/tmp/sparkdb.schema.json\""
   ]
  },
  {
   "cell_type": "code",
   "execution_count": 6,
   "id": "3eea8a28-a335-490a-9bdb-b20b8e33d243",
   "metadata": {},
   "outputs": [
    {
     "name": "stderr",
     "output_type": "stream",
     "text": [
      "                                                                                \r"
     ]
    },
    {
     "name": "stdout",
     "output_type": "stream",
     "text": [
      "root\n",
      " |-- address: struct (nullable = true)\n",
      " |    |-- city: string (nullable = true)\n",
      " |    |-- postalCode: string (nullable = true)\n",
      " |    |-- state: string (nullable = true)\n",
      " |    |-- streetAddress: string (nullable = true)\n",
      " |-- age: long (nullable = true)\n",
      " |-- first Name: string (nullable = true)\n",
      " |-- last Name: string (nullable = true)\n",
      " |-- phoneNumbers: array (nullable = true)\n",
      " |    |-- element: struct (containsNull = true)\n",
      " |    |    |-- number: string (nullable = true)\n",
      " |    |    |-- type: string (nullable = true)\n",
      "\n"
     ]
    }
   ],
   "source": [
    "df = spark.read.json(\"contacts.json\")\n",
    "df.printSchema()"
   ]
  },
  {
   "cell_type": "code",
   "execution_count": 7,
   "id": "2c0b3ceb-0a3f-46cd-a156-aa52e0c22f6c",
   "metadata": {},
   "outputs": [],
   "source": [
    "df.createOrReplaceTempView(\"CONTACTS_TABLE\")"
   ]
  },
  {
   "cell_type": "code",
   "execution_count": 8,
   "id": "b189e37c-897e-4fe4-b06c-82c99d894381",
   "metadata": {},
   "outputs": [
    {
     "data": {
      "text/html": [
       "<table><tr style=\"border-bottom: 1px solid\"><td style=\"font-weight: bold\">database</td><td style=\"font-weight: bold\">tableName</td><td style=\"font-weight: bold\">isTemporary</td></tr><tr><td></td><td>contacts_table</td><td>True</td></tr></table>"
      ],
      "text/plain": [
       "<IPython.core.display.HTML object>"
      ]
     },
     "execution_count": 8,
     "metadata": {},
     "output_type": "execute_result"
    }
   ],
   "source": [
    "%sparksql SHOW TABLES"
   ]
  },
  {
   "cell_type": "markdown",
   "id": "0d23afda-9431-4ef9-9439-ab4a1c92a05d",
   "metadata": {},
   "source": [
    "# Press tab to trigger auto completions and Ctrl-Q to format cell"
   ]
  },
  {
   "cell_type": "code",
   "execution_count": 9,
   "id": "c1a4dce2",
   "metadata": {
    "tags": []
   },
   "outputs": [
    {
     "data": {
      "text/html": [
       "<table><tr style=\"border-bottom: 1px solid\"><td style=\"font-weight: bold\">first Name</td><td style=\"font-weight: bold\">phoneNumbers[0].type</td><td style=\"font-weight: bold\">array_contains(phoneNumbers.type AS `type`, home)</td></tr><tr><td>Rack</td><td>home</td><td>True</td></tr></table>"
      ],
      "text/plain": [
       "<IPython.core.display.HTML object>"
      ]
     },
     "execution_count": 9,
     "metadata": {},
     "output_type": "execute_result"
    }
   ],
   "source": [
    "%%sparksql\n",
    "SELECT\n",
    "    con.`first Name`,\n",
    "    con.phoneNumbers [ 0 ].type,\n",
    "    array_contains(con.phoneNumbers.type, 'home')\n",
    "FROM\n",
    "    contacts_table AS con\n"
   ]
  },
  {
   "cell_type": "code",
   "execution_count": null,
   "id": "0bd9bd6c-a33c-40da-8e5d-06d81b2a44ba",
   "metadata": {},
   "outputs": [],
   "source": []
  },
  {
   "cell_type": "code",
   "execution_count": null,
   "id": "518d80a6-b676-4e86-a03e-0bb871f6100a",
   "metadata": {},
   "outputs": [],
   "source": []
  },
  {
   "cell_type": "markdown",
   "id": "07b3ac2f-3750-4c24-84e7-27c61d3a131d",
   "metadata": {},
   "source": [
    "# Create a temporary view with the --view option"
   ]
  },
  {
   "cell_type": "code",
   "execution_count": 10,
   "id": "3fdffde3",
   "metadata": {},
   "outputs": [
    {
     "name": "stdout",
     "output_type": "stream",
     "text": [
      "create temporary view `the_exploded_table`\n"
     ]
    },
    {
     "data": {
      "text/html": [
       "<table><tr style=\"border-bottom: 1px solid\"><td style=\"font-weight: bold\">address</td><td style=\"font-weight: bold\">age</td><td style=\"font-weight: bold\">first Name</td><td style=\"font-weight: bold\">last Name</td><td style=\"font-weight: bold\">phoneNumbers</td><td style=\"font-weight: bold\">phoneNumber</td></tr><tr><td>Row(city=&#x27;San Jone&#x27;, postalCode=&#x27;394221&#x27;, state=&#x27;CA&#x27;, streetAddress=&#x27;126&#x27;)</td><td>24</td><td>Rack</td><td>Jackon</td><td>[Row(number=&#x27;7383627627&#x27;, type=&#x27;home&#x27;)]</td><td>Row(number=&#x27;7383627627&#x27;, type=&#x27;home&#x27;)</td></tr></table>"
      ],
      "text/plain": [
       "<IPython.core.display.HTML object>"
      ]
     },
     "execution_count": 10,
     "metadata": {},
     "output_type": "execute_result"
    }
   ],
   "source": [
    "%%sparksql --view the_exploded_table\n",
    "SELECT\n",
    "    *, \n",
    "    explode(con.phoneNumbers) as phoneNumber\n",
    "FROM\n",
    "    contacts_table AS con\n"
   ]
  },
  {
   "cell_type": "code",
   "execution_count": 11,
   "id": "c8263b7d-6d1a-4747-aaa9-89673f2fb8fb",
   "metadata": {},
   "outputs": [
    {
     "data": {
      "text/html": [
       "<table><tr style=\"border-bottom: 1px solid\"><td style=\"font-weight: bold\">database</td><td style=\"font-weight: bold\">tableName</td><td style=\"font-weight: bold\">isTemporary</td></tr><tr><td></td><td>contacts_table</td><td>True</td></tr><tr><td></td><td>the_exploded_table</td><td>True</td></tr></table>"
      ],
      "text/plain": [
       "<IPython.core.display.HTML object>"
      ]
     },
     "execution_count": 11,
     "metadata": {},
     "output_type": "execute_result"
    }
   ],
   "source": [
    "%sparksql SHOW TABLES"
   ]
  },
  {
   "cell_type": "markdown",
   "id": "4f145195-e8c9-4771-a4ae-0ffbe479234c",
   "metadata": {},
   "source": [
    "# Use temporary view in subsequent queries with autocomplet suggestions"
   ]
  },
  {
   "cell_type": "code",
   "execution_count": 12,
   "id": "8e5b8ab8-3b53-4653-9894-6ce5ef666a5c",
   "metadata": {},
   "outputs": [
    {
     "data": {
      "text/html": [
       "<table><tr style=\"border-bottom: 1px solid\"><td style=\"font-weight: bold\">address</td><td style=\"font-weight: bold\">age</td><td style=\"font-weight: bold\">first Name</td><td style=\"font-weight: bold\">last Name</td><td style=\"font-weight: bold\">phoneNumbers</td><td style=\"font-weight: bold\">phoneNumber</td></tr><tr><td>Row(city=&#x27;San Jone&#x27;, postalCode=&#x27;394221&#x27;, state=&#x27;CA&#x27;, streetAddress=&#x27;126&#x27;)</td><td>24</td><td>Rack</td><td>Jackon</td><td>[Row(number=&#x27;7383627627&#x27;, type=&#x27;home&#x27;)]</td><td>Row(number=&#x27;7383627627&#x27;, type=&#x27;home&#x27;)</td></tr></table>"
      ],
      "text/plain": [
       "<IPython.core.display.HTML object>"
      ]
     },
     "execution_count": 12,
     "metadata": {},
     "output_type": "execute_result"
    }
   ],
   "source": [
    "%%sparksql\n",
    "SELECT\n",
    "    *\n",
    "FROM\n",
    "    the_exploded_table AS the\n"
   ]
  },
  {
   "cell_type": "markdown",
   "id": "d2cf1f01-46a4-4709-a366-7ce325cb78aa",
   "metadata": {},
   "source": [
    "# Create a dataframe variable to use in pypark"
   ]
  },
  {
   "cell_type": "code",
   "execution_count": 13,
   "id": "7f132420-5f45-4042-9e54-7e5ad42959f8",
   "metadata": {},
   "outputs": [
    {
     "name": "stdout",
     "output_type": "stream",
     "text": [
      "capture dataframe to local variable `the_exploded_dataframe`\n"
     ]
    },
    {
     "data": {
      "text/html": [
       "<table><tr style=\"border-bottom: 1px solid\"><td style=\"font-weight: bold\">address</td><td style=\"font-weight: bold\">age</td><td style=\"font-weight: bold\">first Name</td><td style=\"font-weight: bold\">last Name</td><td style=\"font-weight: bold\">phoneNumbers</td><td style=\"font-weight: bold\">phoneNumber</td></tr><tr><td>Row(city=&#x27;San Jone&#x27;, postalCode=&#x27;394221&#x27;, state=&#x27;CA&#x27;, streetAddress=&#x27;126&#x27;)</td><td>24</td><td>Rack</td><td>Jackon</td><td>[Row(number=&#x27;7383627627&#x27;, type=&#x27;home&#x27;)]</td><td>Row(number=&#x27;7383627627&#x27;, type=&#x27;home&#x27;)</td></tr></table>"
      ],
      "text/plain": [
       "<IPython.core.display.HTML object>"
      ]
     },
     "execution_count": 13,
     "metadata": {},
     "output_type": "execute_result"
    }
   ],
   "source": [
    "%%sparksql --dataframe the_exploded_dataframe\n",
    "SELECT\n",
    "    *, \n",
    "    explode(con.phoneNumbers) as phoneNumber\n",
    "FROM\n",
    "    contacts_table AS con\n"
   ]
  },
  {
   "cell_type": "markdown",
   "id": "d4d41d75-c54b-4976-b6e4-cc713698897c",
   "metadata": {},
   "source": [
    "# Continue developing your query using dataframe API"
   ]
  },
  {
   "cell_type": "code",
   "execution_count": 14,
   "id": "0b3d20f1",
   "metadata": {},
   "outputs": [
    {
     "name": "stdout",
     "output_type": "stream",
     "text": [
      "+------------------+\n",
      "|       phoneNumber|\n",
      "+------------------+\n",
      "|{7383627627, home}|\n",
      "+------------------+\n",
      "\n"
     ]
    }
   ],
   "source": [
    "the_exploded_dataframe.select('phoneNumber').show()"
   ]
  },
  {
   "cell_type": "markdown",
   "id": "17b93613-2196-4733-ad38-d7dd60e9d98a",
   "metadata": {},
   "source": [
    "# Edit SQL within python strings\n",
    "## Enjoy the same functionality as a code cell\n",
    "- syntax highlighting\n",
    "- code completion\n",
    "- SQL formatting"
   ]
  },
  {
   "cell_type": "code",
   "execution_count": 15,
   "id": "922cb48c",
   "metadata": {},
   "outputs": [
    {
     "name": "stdout",
     "output_type": "stream",
     "text": [
      "\n",
      "--start-sparksql\n",
      "SELECT\n",
      "    *, \n",
      "    explode(con.phoneNumbers) as phoneNumber\n",
      "FROM\n",
      "    contacts_table AS con\n",
      "--end-sparksql\n",
      "\n"
     ]
    }
   ],
   "source": [
    "# declare a python string\n",
    "sql = '''\n",
    "--start-sparksql\n",
    "SELECT\n",
    "    *, \n",
    "    explode(con.phoneNumbers) as phoneNumber\n",
    "FROM\n",
    "    contacts_table AS con\n",
    "--end-sparksql\n",
    "'''\n",
    "print(sql)"
   ]
  },
  {
   "cell_type": "code",
   "execution_count": 16,
   "id": "a158e7f8",
   "metadata": {},
   "outputs": [
    {
     "name": "stdout",
     "output_type": "stream",
     "text": [
      "+--------------------+---+----------+---------+--------------------+------------------+\n",
      "|             address|age|first Name|last Name|        phoneNumbers|       phoneNumber|\n",
      "+--------------------+---+----------+---------+--------------------+------------------+\n",
      "|{San Jone, 394221...| 24|      Rack|   Jackon|[{7383627627, home}]|{7383627627, home}|\n",
      "+--------------------+---+----------+---------+--------------------+------------------+\n",
      "\n"
     ]
    }
   ],
   "source": [
    "spark.sql(sql).show()"
   ]
  },
  {
   "cell_type": "code",
   "execution_count": 17,
   "id": "99f22aaf",
   "metadata": {},
   "outputs": [
    {
     "data": {
      "text/plain": [
       "\u001b[0;31mDocstring:\u001b[0m\n",
       "::\n",
       "\n",
       "  %sparksql [-d DATAFRAME] [-c] [-e] [-v VIEW] [-l LIMIT] [-f OUTPUTFILE]\n",
       "                [-t CACHETTL] [-a CATALOGS] [-q]\n",
       "                [sql [sql ...]]\n",
       "\n",
       "Magic that works both as %sparksql and as %%sparksql\n",
       "\n",
       "positional arguments:\n",
       "  sql                   SQL statement\n",
       "\n",
       "optional arguments:\n",
       "  -d DATAFRAME, --dataframe DATAFRAME\n",
       "                        Capture dataframe in a local variable\n",
       "  -c, --cache           Cache dataframe\n",
       "  -e, --eager           Cache dataframe with eager load\n",
       "  -v VIEW, --view VIEW  Create or replace temporary view\n",
       "  -l LIMIT, --limit LIMIT\n",
       "                        The maximum number of rows to display\n",
       "  -f OUTPUTFILE, --outputFile OUTPUTFILE\n",
       "                        Output schema to specified file, defaults to\n",
       "                        /tmp/sparkdb.schema.json\n",
       "  -t CACHETTL, --cacheTTL CACHETTL\n",
       "                        Re-generate output schema file if older than time\n",
       "                        specified (defaults to -1 seconds)\n",
       "  -a CATALOGS, --catalogs CATALOGS\n",
       "                        Retrive schema from the specified list of catalogs\n",
       "  -q, --qgrid           Display results in qgrid\n",
       "\u001b[0;31mFile:\u001b[0m      /data/dev/jupyterlab_sql_editor/ipython_sparksql_magic/sparksql.py\n"
      ]
     },
     "metadata": {},
     "output_type": "display_data"
    }
   ],
   "source": [
    "%%sparksql?"
   ]
  },
  {
   "cell_type": "code",
   "execution_count": null,
   "id": "60a60cd3",
   "metadata": {},
   "outputs": [],
   "source": []
  }
 ],
 "metadata": {
  "kernelspec": {
   "display_name": "Python 3 (ipykernel)",
   "language": "python",
   "name": "python3"
  },
  "language_info": {
   "codemirror_mode": {
    "name": "ipython",
    "version": 3
   },
   "file_extension": ".py",
   "mimetype": "text/x-python",
   "name": "python",
   "nbconvert_exporter": "python",
   "pygments_lexer": "ipython3",
   "version": "3.8.0"
  }
 },
 "nbformat": 4,
 "nbformat_minor": 5
}
