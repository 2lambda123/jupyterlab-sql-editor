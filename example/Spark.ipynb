{
 "cells": [
  {
   "cell_type": "code",
   "execution_count": 1,
   "id": "64b7c645",
   "metadata": {},
   "outputs": [],
   "source": [
    "import json\n",
    "import pyspark\n",
    "from pyspark.sql import SparkSession\n",
    "from pyspark.sql.types import *"
   ]
  },
  {
   "cell_type": "code",
   "execution_count": 2,
   "id": "d4a06452",
   "metadata": {},
   "outputs": [],
   "source": [
    "import ipywidgets as widgets\n",
    "out = widgets.Output()\n",
    "with out:\n",
    "    spark = SparkSession.builder.getOrCreate()\n",
    "    "
   ]
  },
  {
   "cell_type": "markdown",
   "id": "5fe87250-6936-4de6-bacf-0490a5812516",
   "metadata": {},
   "source": [
    "    Normally IPython only displays the output of the last statement. However it can be handy to run multiple sql magics in a single cell and see the output of each execution. Setting `ast_node_interactivity` to `all` will enable that.\n"
   ]
  },
  {
   "cell_type": "code",
   "execution_count": 3,
   "id": "38907ced-2b87-4e5a-b278-3966945a3979",
   "metadata": {},
   "outputs": [],
   "source": [
    "from IPython.core.interactiveshell import InteractiveShell\n",
    "InteractiveShell.ast_node_interactivity = 'all'"
   ]
  },
  {
   "cell_type": "code",
   "execution_count": 4,
   "id": "f27fd6ea",
   "metadata": {
    "tags": []
   },
   "outputs": [],
   "source": [
    "%load_ext jupyterlab_sql_editor.ipython_magic.sparksql"
   ]
  },
  {
   "cell_type": "code",
   "execution_count": 5,
   "id": "054d2685-5ce9-4be6-8784-e604abc621e0",
   "metadata": {},
   "outputs": [],
   "source": [
    "%config SparkSql.cacheTTL=3600\n",
    "%config SparkSql.outputFile=\"/tmp/sparkdb.schema.json\""
   ]
  },
  {
   "cell_type": "code",
   "execution_count": 6,
   "id": "3eea8a28-a335-490a-9bdb-b20b8e33d243",
   "metadata": {},
   "outputs": [
    {
     "name": "stdout",
     "output_type": "stream",
     "text": [
      "root\n",
      " |-- address: struct (nullable = true)\n",
      " |    |-- city: string (nullable = true)\n",
      " |    |-- postalCode: string (nullable = true)\n",
      " |    |-- state: string (nullable = true)\n",
      " |    |-- streetAddress: string (nullable = true)\n",
      " |-- age: long (nullable = true)\n",
      " |-- first Name: string (nullable = true)\n",
      " |-- last Name: string (nullable = true)\n",
      " |-- phoneNumbers: array (nullable = true)\n",
      " |    |-- element: struct (containsNull = true)\n",
      " |    |    |-- number: string (nullable = true)\n",
      " |    |    |-- type: string (nullable = true)\n",
      "\n"
     ]
    }
   ],
   "source": [
    "df = spark.read.json(\"contacts.json\")\n",
    "df.printSchema()"
   ]
  },
  {
   "cell_type": "code",
   "execution_count": 7,
   "id": "2c0b3ceb-0a3f-46cd-a156-aa52e0c22f6c",
   "metadata": {},
   "outputs": [],
   "source": [
    "df.createOrReplaceTempView(\"CONTACTS_TABLE\")"
   ]
  },
  {
   "cell_type": "code",
   "execution_count": 8,
   "id": "caab565e-36e1-4c7b-8b44-90b44f7211f5",
   "metadata": {},
   "outputs": [
    {
     "name": "stdout",
     "output_type": "stream",
     "text": [
      "Exporting functions: [########################################] 100.0%\n",
      "Schema file updated: /tmp/sparkdb.schema.json\n"
     ]
    }
   ],
   "source": [
    "%sparksql --refresh all"
   ]
  },
  {
   "cell_type": "code",
   "execution_count": 9,
   "id": "b189e37c-897e-4fe4-b06c-82c99d894381",
   "metadata": {},
   "outputs": [
    {
     "data": {
      "application/vnd.jupyter.widget-view+json": {
       "model_id": "0c7b5c8dbd6c4596995e2f718fbfca24",
       "version_major": 2,
       "version_minor": 0
      },
      "text/plain": [
       "SparkSchemaWidget(nodes=(Node(close_icon='angle-down', close_icon_style='danger', icon='project-diagram', icon…"
      ]
     },
     "metadata": {},
     "output_type": "display_data"
    },
    {
     "data": {
      "application/vnd.jupyter.widget-view+json": {
       "model_id": "86cfde200e4e454f9bfc2129123bddae",
       "version_major": 2,
       "version_minor": 0
      },
      "text/plain": [
       "Output()"
      ]
     },
     "metadata": {},
     "output_type": "display_data"
    },
    {
     "data": {
      "text/html": [
       "<table><tr style=\"border-bottom: 1px solid\"><td style=\"font-weight: bold\">namespace</td><td style=\"font-weight: bold\">tableName</td><td style=\"font-weight: bold\">isTemporary</td></tr><tr><td></td><td>contacts_table</td><td>True</td></tr></table>"
      ],
      "text/plain": [
       "<IPython.core.display.HTML object>"
      ]
     },
     "metadata": {},
     "output_type": "display_data"
    },
    {
     "data": {
      "text/plain": [
       "Execution time: 0.02 seconds"
      ]
     },
     "metadata": {},
     "output_type": "display_data"
    }
   ],
   "source": [
    "%sparksql SHOW TABLES"
   ]
  },
  {
   "cell_type": "markdown",
   "id": "0d23afda-9431-4ef9-9439-ab4a1c92a05d",
   "metadata": {},
   "source": [
    "# Press tab to trigger auto completions and Ctrl-Q to format cell"
   ]
  },
  {
   "cell_type": "code",
   "execution_count": 10,
   "id": "3ae4bfa8-316f-4b0c-bd9d-cdae30b3704b",
   "metadata": {
    "tags": []
   },
   "outputs": [
    {
     "data": {
      "application/vnd.jupyter.widget-view+json": {
       "model_id": "afbafe3dc9eb45bfa7d5e2cdef1f27de",
       "version_major": 2,
       "version_minor": 0
      },
      "text/plain": [
       "SparkSchemaWidget(nodes=(Node(close_icon='angle-down', close_icon_style='danger', icon='project-diagram', icon…"
      ]
     },
     "metadata": {},
     "output_type": "display_data"
    },
    {
     "data": {
      "application/vnd.jupyter.widget-view+json": {
       "model_id": "a4e9e77cc2e3455b9731127781ee69d1",
       "version_major": 2,
       "version_minor": 0
      },
      "text/plain": [
       "Output()"
      ]
     },
     "metadata": {},
     "output_type": "display_data"
    },
    {
     "data": {
      "application/vnd.jupyter.widget-view+json": {
       "model_id": "a8f62f45d9394bf79a995a02d35d06b1",
       "version_major": 2,
       "version_minor": 0
      },
      "text/plain": [
       "DataGrid(auto_fit_params={'area': 'all', 'padding': 30, 'numCols': None}, corner_renderer=None, default_render…"
      ]
     },
     "metadata": {},
     "output_type": "display_data"
    },
    {
     "data": {
      "text/plain": [
       "Execution time: 0.51 seconds"
      ]
     },
     "metadata": {},
     "output_type": "display_data"
    }
   ],
   "source": [
    "%%sparksql --output grid --limit 1000\n",
    "SELECT\n",
    "    id,\n",
    "    uuid()\n",
    "FROM\n",
    "    RANGE (1, 1000)\n"
   ]
  },
  {
   "cell_type": "code",
   "execution_count": null,
   "id": "d4aa4a32-bc82-4201-8491-3900ec868245",
   "metadata": {},
   "outputs": [],
   "source": []
  },
  {
   "cell_type": "code",
   "execution_count": 11,
   "id": "facc2d4c-b3f9-4026-919c-873aeef71f2f",
   "metadata": {},
   "outputs": [
    {
     "data": {
      "application/vnd.jupyter.widget-view+json": {
       "model_id": "85cc91c958b5417f886cd579f46ad349",
       "version_major": 2,
       "version_minor": 0
      },
      "text/plain": [
       "SparkSchemaWidget(nodes=(Node(close_icon='angle-down', close_icon_style='danger', icon='project-diagram', icon…"
      ]
     },
     "metadata": {},
     "output_type": "display_data"
    },
    {
     "data": {
      "application/vnd.jupyter.widget-view+json": {
       "model_id": "9de670d332804cf0b87092e05efeab80",
       "version_major": 2,
       "version_minor": 0
      },
      "text/plain": [
       "Output()"
      ]
     },
     "metadata": {},
     "output_type": "display_data"
    },
    {
     "data": {
      "text/html": [
       "<table><tr style=\"border-bottom: 1px solid\"><td style=\"font-weight: bold\">first Name</td><td style=\"font-weight: bold\">primary_number</td><td style=\"font-weight: bold\">flag</td></tr><tr><td>Rack</td><td>home</td><td>True</td></tr></table>"
      ],
      "text/plain": [
       "<IPython.core.display.HTML object>"
      ]
     },
     "metadata": {},
     "output_type": "display_data"
    },
    {
     "data": {
      "text/plain": [
       "Execution time: 0.15 seconds"
      ]
     },
     "metadata": {},
     "output_type": "display_data"
    }
   ],
   "source": [
    "%%sparksql --output html --limit 3\n",
    "\n",
    "SELECT\n",
    "    con.`first Name`,\n",
    "    con.phoneNumbers [ 0 ].type as primary_number,\n",
    "    array_contains(con.phoneNumbers.type, 'home') as flag\n",
    "FROM\n",
    "    contacts_table AS con\n"
   ]
  },
  {
   "cell_type": "code",
   "execution_count": 12,
   "id": "02b79722-aa71-4820-83ee-517150958c29",
   "metadata": {},
   "outputs": [
    {
     "data": {
      "application/vnd.jupyter.widget-view+json": {
       "model_id": "6a633b6b5d504509a631a1244d578cc2",
       "version_major": 2,
       "version_minor": 0
      },
      "text/plain": [
       "SparkSchemaWidget(nodes=(Node(close_icon='angle-down', close_icon_style='danger', icon='project-diagram', icon…"
      ]
     },
     "metadata": {},
     "output_type": "display_data"
    },
    {
     "data": {
      "application/vnd.jupyter.widget-view+json": {
       "model_id": "900bb13ad5884bb58c817ad3dbdce200",
       "version_major": 2,
       "version_minor": 0
      },
      "text/plain": [
       "Output()"
      ]
     },
     "metadata": {},
     "output_type": "display_data"
    },
    {
     "data": {
      "application/json": [
       {
        "address": {
         "city": "San Jone",
         "postalCode": "394221",
         "state": "CA",
         "streetAddress": "126"
        },
        "age": 24,
        "first Name": "Rack",
        "last Name": "Jackon",
        "phoneNumbers": [
         {
          "number": "7383627627",
          "type": "home"
         }
        ]
       }
      ],
      "text/plain": [
       "<IPython.core.display.JSON object>"
      ]
     },
     "metadata": {
      "application/json": {
       "expanded": false,
       "root": "root"
      }
     },
     "output_type": "display_data"
    },
    {
     "data": {
      "text/plain": [
       "Execution time: 0.20 seconds"
      ]
     },
     "metadata": {},
     "output_type": "display_data"
    }
   ],
   "source": [
    "%%sparksql --output json --limit 3\n",
    "SELECT\n",
    "    *\n",
    "FROM\n",
    "    contacts_table AS con\n"
   ]
  },
  {
   "cell_type": "code",
   "execution_count": null,
   "id": "86ef0f58-2f28-4f90-b42a-1bbc883ed203",
   "metadata": {},
   "outputs": [],
   "source": []
  },
  {
   "cell_type": "code",
   "execution_count": 13,
   "id": "969487b7-247c-46eb-b6e7-281a5ace3e02",
   "metadata": {},
   "outputs": [
    {
     "name": "stdout",
     "output_type": "stream",
     "text": [
      "root\n",
      " |-- address: struct (nullable = true)\n",
      " |    |-- city: string (nullable = true)\n",
      " |    |-- postalCode: string (nullable = true)\n",
      " |    |-- state: string (nullable = true)\n",
      " |    |-- streetAddress: string (nullable = true)\n",
      " |-- age: long (nullable = true)\n",
      " |-- first Name: string (nullable = true)\n",
      " |-- last Name: string (nullable = true)\n",
      " |-- phoneNumbers: array (nullable = true)\n",
      " |    |-- element: struct (containsNull = true)\n",
      " |    |    |-- number: string (nullable = true)\n",
      " |    |    |-- type: string (nullable = true)\n",
      "\n"
     ]
    }
   ],
   "source": [
    "%%sparksql --output schema\n",
    "SELECT\n",
    "    *\n",
    "FROM\n",
    "    contacts_table AS con"
   ]
  },
  {
   "cell_type": "markdown",
   "id": "07b3ac2f-3750-4c24-84e7-27c61d3a131d",
   "metadata": {},
   "source": [
    "# Create a temporary view with the --view option"
   ]
  },
  {
   "cell_type": "code",
   "execution_count": 14,
   "id": "3fdffde3",
   "metadata": {},
   "outputs": [
    {
     "name": "stdout",
     "output_type": "stream",
     "text": [
      "Exporting tables from spark_catalog: [########################################] 100.0%\n",
      "Query execution skipped\n"
     ]
    }
   ],
   "source": [
    "%%sparksql --view the_exploded_table --output skip\n",
    "SELECT\n",
    "    *, \n",
    "    explode(con.phoneNumbers) as phoneNumber\n",
    "FROM\n",
    "    contacts_table AS con\n"
   ]
  },
  {
   "cell_type": "code",
   "execution_count": 15,
   "id": "c8263b7d-6d1a-4747-aaa9-89673f2fb8fb",
   "metadata": {},
   "outputs": [
    {
     "data": {
      "application/vnd.jupyter.widget-view+json": {
       "model_id": "3053d199c12145e99df7aeb878db979d",
       "version_major": 2,
       "version_minor": 0
      },
      "text/plain": [
       "SparkSchemaWidget(nodes=(Node(close_icon='angle-down', close_icon_style='danger', icon='project-diagram', icon…"
      ]
     },
     "metadata": {},
     "output_type": "display_data"
    },
    {
     "data": {
      "application/vnd.jupyter.widget-view+json": {
       "model_id": "1d34208fe6b7419e924b9fe9dc825ff7",
       "version_major": 2,
       "version_minor": 0
      },
      "text/plain": [
       "Output()"
      ]
     },
     "metadata": {},
     "output_type": "display_data"
    },
    {
     "data": {
      "text/html": [
       "<table><tr style=\"border-bottom: 1px solid\"><td style=\"font-weight: bold\">namespace</td><td style=\"font-weight: bold\">tableName</td><td style=\"font-weight: bold\">isTemporary</td></tr><tr><td></td><td>contacts_table</td><td>True</td></tr><tr><td></td><td>the_exploded_table</td><td>True</td></tr></table>"
      ],
      "text/plain": [
       "<IPython.core.display.HTML object>"
      ]
     },
     "metadata": {},
     "output_type": "display_data"
    },
    {
     "data": {
      "text/plain": [
       "Execution time: 0.01 seconds"
      ]
     },
     "metadata": {},
     "output_type": "display_data"
    }
   ],
   "source": [
    "%sparksql SHOW TABLES"
   ]
  },
  {
   "cell_type": "markdown",
   "id": "4f145195-e8c9-4771-a4ae-0ffbe479234c",
   "metadata": {},
   "source": [
    "# Use temporary view in subsequent queries with autocomplet suggestions"
   ]
  },
  {
   "cell_type": "code",
   "execution_count": 16,
   "id": "8e5b8ab8-3b53-4653-9894-6ce5ef666a5c",
   "metadata": {},
   "outputs": [
    {
     "data": {
      "application/vnd.jupyter.widget-view+json": {
       "model_id": "dd04cede50744d27a4480bb3fdcc954e",
       "version_major": 2,
       "version_minor": 0
      },
      "text/plain": [
       "SparkSchemaWidget(nodes=(Node(close_icon='angle-down', close_icon_style='danger', icon='project-diagram', icon…"
      ]
     },
     "metadata": {},
     "output_type": "display_data"
    },
    {
     "data": {
      "application/vnd.jupyter.widget-view+json": {
       "model_id": "f5d66da70290475b8678147cec91584d",
       "version_major": 2,
       "version_minor": 0
      },
      "text/plain": [
       "Output()"
      ]
     },
     "metadata": {},
     "output_type": "display_data"
    },
    {
     "data": {
      "text/html": [
       "<table><tr style=\"border-bottom: 1px solid\"><td style=\"font-weight: bold\">address</td><td style=\"font-weight: bold\">age</td><td style=\"font-weight: bold\">first Name</td><td style=\"font-weight: bold\">last Name</td><td style=\"font-weight: bold\">phoneNumbers</td><td style=\"font-weight: bold\">phoneNumber</td></tr><tr><td>Row(city='San Jone', postalCode='394221', state='CA', streetAddress='126')</td><td>24</td><td>Rack</td><td>Jackon</td><td>[Row(number='7383627627', type='home')]</td><td>Row(number='7383627627', type='home')</td></tr></table>"
      ],
      "text/plain": [
       "<IPython.core.display.HTML object>"
      ]
     },
     "metadata": {},
     "output_type": "display_data"
    },
    {
     "data": {
      "text/plain": [
       "Execution time: 0.19 seconds"
      ]
     },
     "metadata": {},
     "output_type": "display_data"
    }
   ],
   "source": [
    "%%sparksql\n",
    "SELECT\n",
    "    *\n",
    "FROM\n",
    "    the_exploded_table AS the\n"
   ]
  },
  {
   "cell_type": "code",
   "execution_count": 17,
   "id": "05c5964f-f5c4-438a-a752-bb68bb938416",
   "metadata": {},
   "outputs": [
    {
     "data": {
      "application/vnd.jupyter.widget-view+json": {
       "model_id": "d1991f7a98944442a8bbad1700cefd60",
       "version_major": 2,
       "version_minor": 0
      },
      "text/plain": [
       "SparkSchemaWidget(nodes=(Node(close_icon='angle-down', close_icon_style='danger', icon='project-diagram', icon…"
      ]
     },
     "metadata": {},
     "output_type": "display_data"
    },
    {
     "data": {
      "application/vnd.jupyter.widget-view+json": {
       "model_id": "80f6cfe8de3940f3a2fbfb958cecdcc0",
       "version_major": 2,
       "version_minor": 0
      },
      "text/plain": [
       "Output()"
      ]
     },
     "metadata": {},
     "output_type": "display_data"
    },
    {
     "data": {
      "text/plain": [
       "+---------------------------+---+----------+---------+--------------------+------------------+\n",
       "|                    address|age|first Name|last Name|        phoneNumbers|       phoneNumber|\n",
       "+---------------------------+---+----------+---------+--------------------+------------------+\n",
       "|{San Jone, 394221, CA, 126}| 24|      Rack|   Jackon|[{7383627627, home}]|{7383627627, home}|\n",
       "+---------------------------+---+----------+---------+--------------------+------------------+"
      ]
     },
     "metadata": {},
     "output_type": "display_data"
    },
    {
     "data": {
      "text/plain": [
       "Execution time: 0.23 seconds"
      ]
     },
     "metadata": {},
     "output_type": "display_data"
    }
   ],
   "source": [
    "%%sparksql --output text\n",
    "SELECT\n",
    "    *\n",
    "FROM\n",
    "    the_exploded_table AS the\n"
   ]
  },
  {
   "cell_type": "code",
   "execution_count": 18,
   "id": "8733498e-9ef0-44b3-89bd-f9ede19ce1c2",
   "metadata": {},
   "outputs": [
    {
     "data": {
      "text/html": [
       "<style>pre { line-height: 125%; }\n",
       "td.linenos .normal { color: inherit; background-color: transparent; padding-left: 5px; padding-right: 5px; }\n",
       "span.linenos { color: inherit; background-color: transparent; padding-left: 5px; padding-right: 5px; }\n",
       "td.linenos .special { color: #000000; background-color: #ffffc0; padding-left: 5px; padding-right: 5px; }\n",
       "span.linenos.special { color: #000000; background-color: #ffffc0; padding-left: 5px; padding-right: 5px; }\n",
       ".output_html .hll { background-color: #ffffcc }\n",
       ".output_html { background: #f8f8f8; }\n",
       ".output_html .c { color: #3D7B7B; font-style: italic } /* Comment */\n",
       ".output_html .err { border: 1px solid #FF0000 } /* Error */\n",
       ".output_html .k { color: #008000; font-weight: bold } /* Keyword */\n",
       ".output_html .o { color: #666666 } /* Operator */\n",
       ".output_html .ch { color: #3D7B7B; font-style: italic } /* Comment.Hashbang */\n",
       ".output_html .cm { color: #3D7B7B; font-style: italic } /* Comment.Multiline */\n",
       ".output_html .cp { color: #9C6500 } /* Comment.Preproc */\n",
       ".output_html .cpf { color: #3D7B7B; font-style: italic } /* Comment.PreprocFile */\n",
       ".output_html .c1 { color: #3D7B7B; font-style: italic } /* Comment.Single */\n",
       ".output_html .cs { color: #3D7B7B; font-style: italic } /* Comment.Special */\n",
       ".output_html .gd { color: #A00000 } /* Generic.Deleted */\n",
       ".output_html .ge { font-style: italic } /* Generic.Emph */\n",
       ".output_html .gr { color: #E40000 } /* Generic.Error */\n",
       ".output_html .gh { color: #000080; font-weight: bold } /* Generic.Heading */\n",
       ".output_html .gi { color: #008400 } /* Generic.Inserted */\n",
       ".output_html .go { color: #717171 } /* Generic.Output */\n",
       ".output_html .gp { color: #000080; font-weight: bold } /* Generic.Prompt */\n",
       ".output_html .gs { font-weight: bold } /* Generic.Strong */\n",
       ".output_html .gu { color: #800080; font-weight: bold } /* Generic.Subheading */\n",
       ".output_html .gt { color: #0044DD } /* Generic.Traceback */\n",
       ".output_html .kc { color: #008000; font-weight: bold } /* Keyword.Constant */\n",
       ".output_html .kd { color: #008000; font-weight: bold } /* Keyword.Declaration */\n",
       ".output_html .kn { color: #008000; font-weight: bold } /* Keyword.Namespace */\n",
       ".output_html .kp { color: #008000 } /* Keyword.Pseudo */\n",
       ".output_html .kr { color: #008000; font-weight: bold } /* Keyword.Reserved */\n",
       ".output_html .kt { color: #B00040 } /* Keyword.Type */\n",
       ".output_html .m { color: #666666 } /* Literal.Number */\n",
       ".output_html .s { color: #BA2121 } /* Literal.String */\n",
       ".output_html .na { color: #687822 } /* Name.Attribute */\n",
       ".output_html .nb { color: #008000 } /* Name.Builtin */\n",
       ".output_html .nc { color: #0000FF; font-weight: bold } /* Name.Class */\n",
       ".output_html .no { color: #880000 } /* Name.Constant */\n",
       ".output_html .nd { color: #AA22FF } /* Name.Decorator */\n",
       ".output_html .ni { color: #717171; font-weight: bold } /* Name.Entity */\n",
       ".output_html .ne { color: #CB3F38; font-weight: bold } /* Name.Exception */\n",
       ".output_html .nf { color: #0000FF } /* Name.Function */\n",
       ".output_html .nl { color: #767600 } /* Name.Label */\n",
       ".output_html .nn { color: #0000FF; font-weight: bold } /* Name.Namespace */\n",
       ".output_html .nt { color: #008000; font-weight: bold } /* Name.Tag */\n",
       ".output_html .nv { color: #19177C } /* Name.Variable */\n",
       ".output_html .ow { color: #AA22FF; font-weight: bold } /* Operator.Word */\n",
       ".output_html .w { color: #bbbbbb } /* Text.Whitespace */\n",
       ".output_html .mb { color: #666666 } /* Literal.Number.Bin */\n",
       ".output_html .mf { color: #666666 } /* Literal.Number.Float */\n",
       ".output_html .mh { color: #666666 } /* Literal.Number.Hex */\n",
       ".output_html .mi { color: #666666 } /* Literal.Number.Integer */\n",
       ".output_html .mo { color: #666666 } /* Literal.Number.Oct */\n",
       ".output_html .sa { color: #BA2121 } /* Literal.String.Affix */\n",
       ".output_html .sb { color: #BA2121 } /* Literal.String.Backtick */\n",
       ".output_html .sc { color: #BA2121 } /* Literal.String.Char */\n",
       ".output_html .dl { color: #BA2121 } /* Literal.String.Delimiter */\n",
       ".output_html .sd { color: #BA2121; font-style: italic } /* Literal.String.Doc */\n",
       ".output_html .s2 { color: #BA2121 } /* Literal.String.Double */\n",
       ".output_html .se { color: #AA5D1F; font-weight: bold } /* Literal.String.Escape */\n",
       ".output_html .sh { color: #BA2121 } /* Literal.String.Heredoc */\n",
       ".output_html .si { color: #A45A77; font-weight: bold } /* Literal.String.Interpol */\n",
       ".output_html .sx { color: #008000 } /* Literal.String.Other */\n",
       ".output_html .sr { color: #A45A77 } /* Literal.String.Regex */\n",
       ".output_html .s1 { color: #BA2121 } /* Literal.String.Single */\n",
       ".output_html .ss { color: #19177C } /* Literal.String.Symbol */\n",
       ".output_html .bp { color: #008000 } /* Name.Builtin.Pseudo */\n",
       ".output_html .fm { color: #0000FF } /* Name.Function.Magic */\n",
       ".output_html .vc { color: #19177C } /* Name.Variable.Class */\n",
       ".output_html .vg { color: #19177C } /* Name.Variable.Global */\n",
       ".output_html .vi { color: #19177C } /* Name.Variable.Instance */\n",
       ".output_html .vm { color: #19177C } /* Name.Variable.Magic */\n",
       ".output_html .il { color: #666666 } /* Literal.Number.Integer.Long */\n",
       "pre { line-height: 125%; }\n",
       "td.linenos .normal { color: inherit; background-color: transparent; padding-left: 5px; padding-right: 5px; }\n",
       "span.linenos { color: inherit; background-color: transparent; padding-left: 5px; padding-right: 5px; }\n",
       "td.linenos .special { color: #000000; background-color: #ffffc0; padding-left: 5px; padding-right: 5px; }\n",
       "span.linenos.special { color: #000000; background-color: #ffffc0; padding-left: 5px; padding-right: 5px; }\n",
       ".jp-RenderedHTML .hll { background-color: #ffffcc }\n",
       ".jp-RenderedHTML { background: #f8f8f8; }\n",
       ".jp-RenderedHTML .c { color: #3D7B7B; font-style: italic } /* Comment */\n",
       ".jp-RenderedHTML .err { border: 1px solid #FF0000 } /* Error */\n",
       ".jp-RenderedHTML .k { color: #008000; font-weight: bold } /* Keyword */\n",
       ".jp-RenderedHTML .o { color: #666666 } /* Operator */\n",
       ".jp-RenderedHTML .ch { color: #3D7B7B; font-style: italic } /* Comment.Hashbang */\n",
       ".jp-RenderedHTML .cm { color: #3D7B7B; font-style: italic } /* Comment.Multiline */\n",
       ".jp-RenderedHTML .cp { color: #9C6500 } /* Comment.Preproc */\n",
       ".jp-RenderedHTML .cpf { color: #3D7B7B; font-style: italic } /* Comment.PreprocFile */\n",
       ".jp-RenderedHTML .c1 { color: #3D7B7B; font-style: italic } /* Comment.Single */\n",
       ".jp-RenderedHTML .cs { color: #3D7B7B; font-style: italic } /* Comment.Special */\n",
       ".jp-RenderedHTML .gd { color: #A00000 } /* Generic.Deleted */\n",
       ".jp-RenderedHTML .ge { font-style: italic } /* Generic.Emph */\n",
       ".jp-RenderedHTML .gr { color: #E40000 } /* Generic.Error */\n",
       ".jp-RenderedHTML .gh { color: #000080; font-weight: bold } /* Generic.Heading */\n",
       ".jp-RenderedHTML .gi { color: #008400 } /* Generic.Inserted */\n",
       ".jp-RenderedHTML .go { color: #717171 } /* Generic.Output */\n",
       ".jp-RenderedHTML .gp { color: #000080; font-weight: bold } /* Generic.Prompt */\n",
       ".jp-RenderedHTML .gs { font-weight: bold } /* Generic.Strong */\n",
       ".jp-RenderedHTML .gu { color: #800080; font-weight: bold } /* Generic.Subheading */\n",
       ".jp-RenderedHTML .gt { color: #0044DD } /* Generic.Traceback */\n",
       ".jp-RenderedHTML .kc { color: #008000; font-weight: bold } /* Keyword.Constant */\n",
       ".jp-RenderedHTML .kd { color: #008000; font-weight: bold } /* Keyword.Declaration */\n",
       ".jp-RenderedHTML .kn { color: #008000; font-weight: bold } /* Keyword.Namespace */\n",
       ".jp-RenderedHTML .kp { color: #008000 } /* Keyword.Pseudo */\n",
       ".jp-RenderedHTML .kr { color: #008000; font-weight: bold } /* Keyword.Reserved */\n",
       ".jp-RenderedHTML .kt { color: #B00040 } /* Keyword.Type */\n",
       ".jp-RenderedHTML .m { color: #666666 } /* Literal.Number */\n",
       ".jp-RenderedHTML .s { color: #BA2121 } /* Literal.String */\n",
       ".jp-RenderedHTML .na { color: #687822 } /* Name.Attribute */\n",
       ".jp-RenderedHTML .nb { color: #008000 } /* Name.Builtin */\n",
       ".jp-RenderedHTML .nc { color: #0000FF; font-weight: bold } /* Name.Class */\n",
       ".jp-RenderedHTML .no { color: #880000 } /* Name.Constant */\n",
       ".jp-RenderedHTML .nd { color: #AA22FF } /* Name.Decorator */\n",
       ".jp-RenderedHTML .ni { color: #717171; font-weight: bold } /* Name.Entity */\n",
       ".jp-RenderedHTML .ne { color: #CB3F38; font-weight: bold } /* Name.Exception */\n",
       ".jp-RenderedHTML .nf { color: #0000FF } /* Name.Function */\n",
       ".jp-RenderedHTML .nl { color: #767600 } /* Name.Label */\n",
       ".jp-RenderedHTML .nn { color: #0000FF; font-weight: bold } /* Name.Namespace */\n",
       ".jp-RenderedHTML .nt { color: #008000; font-weight: bold } /* Name.Tag */\n",
       ".jp-RenderedHTML .nv { color: #19177C } /* Name.Variable */\n",
       ".jp-RenderedHTML .ow { color: #AA22FF; font-weight: bold } /* Operator.Word */\n",
       ".jp-RenderedHTML .w { color: #bbbbbb } /* Text.Whitespace */\n",
       ".jp-RenderedHTML .mb { color: #666666 } /* Literal.Number.Bin */\n",
       ".jp-RenderedHTML .mf { color: #666666 } /* Literal.Number.Float */\n",
       ".jp-RenderedHTML .mh { color: #666666 } /* Literal.Number.Hex */\n",
       ".jp-RenderedHTML .mi { color: #666666 } /* Literal.Number.Integer */\n",
       ".jp-RenderedHTML .mo { color: #666666 } /* Literal.Number.Oct */\n",
       ".jp-RenderedHTML .sa { color: #BA2121 } /* Literal.String.Affix */\n",
       ".jp-RenderedHTML .sb { color: #BA2121 } /* Literal.String.Backtick */\n",
       ".jp-RenderedHTML .sc { color: #BA2121 } /* Literal.String.Char */\n",
       ".jp-RenderedHTML .dl { color: #BA2121 } /* Literal.String.Delimiter */\n",
       ".jp-RenderedHTML .sd { color: #BA2121; font-style: italic } /* Literal.String.Doc */\n",
       ".jp-RenderedHTML .s2 { color: #BA2121 } /* Literal.String.Double */\n",
       ".jp-RenderedHTML .se { color: #AA5D1F; font-weight: bold } /* Literal.String.Escape */\n",
       ".jp-RenderedHTML .sh { color: #BA2121 } /* Literal.String.Heredoc */\n",
       ".jp-RenderedHTML .si { color: #A45A77; font-weight: bold } /* Literal.String.Interpol */\n",
       ".jp-RenderedHTML .sx { color: #008000 } /* Literal.String.Other */\n",
       ".jp-RenderedHTML .sr { color: #A45A77 } /* Literal.String.Regex */\n",
       ".jp-RenderedHTML .s1 { color: #BA2121 } /* Literal.String.Single */\n",
       ".jp-RenderedHTML .ss { color: #19177C } /* Literal.String.Symbol */\n",
       ".jp-RenderedHTML .bp { color: #008000 } /* Name.Builtin.Pseudo */\n",
       ".jp-RenderedHTML .fm { color: #0000FF } /* Name.Function.Magic */\n",
       ".jp-RenderedHTML .vc { color: #19177C } /* Name.Variable.Class */\n",
       ".jp-RenderedHTML .vg { color: #19177C } /* Name.Variable.Global */\n",
       ".jp-RenderedHTML .vi { color: #19177C } /* Name.Variable.Instance */\n",
       ".jp-RenderedHTML .vm { color: #19177C } /* Name.Variable.Magic */\n",
       ".jp-RenderedHTML .il { color: #666666 } /* Literal.Number.Integer.Long */</style><div class=\"highlight\"><pre><span></span><span class=\"k\">SELECT</span><span class=\"w\"></span>\n",
       "<span class=\"w\">    </span><span class=\"o\">*</span><span class=\"w\"></span>\n",
       "<span class=\"k\">FROM</span><span class=\"w\"></span>\n",
       "<span class=\"w\">    </span><span class=\"n\">the_exploded_table</span><span class=\"w\"> </span><span class=\"k\">AS</span><span class=\"w\"> </span><span class=\"n\">the</span><span class=\"w\"></span>\n",
       "</pre></div>\n"
      ],
      "text/latex": [
       "\\begin{Verbatim}[commandchars=\\\\\\{\\}]\n",
       "\\PY{k}{SELECT}\n",
       "\\PY{+w}{    }\\PY{o}{*}\n",
       "\\PY{k}{FROM}\n",
       "\\PY{+w}{    }\\PY{n}{the\\PYZus{}exploded\\PYZus{}table}\\PY{+w}{ }\\PY{k}{AS}\\PY{+w}{ }\\PY{n}{the}\n",
       "\\end{Verbatim}\n"
      ],
      "text/plain": [
       "SELECT\n",
       "    *\n",
       "FROM\n",
       "    the_exploded_table AS the"
      ]
     },
     "execution_count": 18,
     "metadata": {},
     "output_type": "execute_result"
    }
   ],
   "source": [
    "%%sparksql --output sql\n",
    "SELECT\n",
    "    *\n",
    "FROM\n",
    "    the_exploded_table AS the\n"
   ]
  },
  {
   "cell_type": "markdown",
   "id": "d2cf1f01-46a4-4709-a366-7ce325cb78aa",
   "metadata": {},
   "source": [
    "# Create a dataframe variable to use in pypark"
   ]
  },
  {
   "cell_type": "code",
   "execution_count": 19,
   "id": "7f132420-5f45-4042-9e54-7e5ad42959f8",
   "metadata": {},
   "outputs": [
    {
     "name": "stdout",
     "output_type": "stream",
     "text": [
      "Captured dataframe to local variable `the_exploded_dataframe`\n",
      "Query execution skipped\n"
     ]
    }
   ],
   "source": [
    "%%sparksql --dataframe the_exploded_dataframe --output skip\n",
    "SELECT\n",
    "    *, \n",
    "    explode(con.phoneNumbers) as phoneNumber\n",
    "FROM\n",
    "    contacts_table AS con\n"
   ]
  },
  {
   "cell_type": "markdown",
   "id": "d4d41d75-c54b-4976-b6e4-cc713698897c",
   "metadata": {},
   "source": [
    "# Continue developing your query using dataframe API"
   ]
  },
  {
   "cell_type": "code",
   "execution_count": 20,
   "id": "0b3d20f1",
   "metadata": {},
   "outputs": [
    {
     "name": "stdout",
     "output_type": "stream",
     "text": [
      "+------------------+\n",
      "|       phoneNumber|\n",
      "+------------------+\n",
      "|{7383627627, home}|\n",
      "+------------------+\n",
      "\n"
     ]
    }
   ],
   "source": [
    "the_exploded_dataframe.select('phoneNumber').show()"
   ]
  },
  {
   "cell_type": "markdown",
   "id": "17b93613-2196-4733-ad38-d7dd60e9d98a",
   "metadata": {},
   "source": [
    "# Edit SQL within python strings\n",
    "## Enjoy the same functionality as a code cell\n",
    "- syntax highlighting\n",
    "- code completion\n",
    "- SQL formatting"
   ]
  },
  {
   "cell_type": "code",
   "execution_count": 21,
   "id": "922cb48c",
   "metadata": {},
   "outputs": [
    {
     "name": "stdout",
     "output_type": "stream",
     "text": [
      "\n",
      "--start-sparksql\n",
      "SELECT\n",
      "    *, \n",
      "    explode(con.phoneNumbers) as phoneNumber\n",
      "FROM\n",
      "    contacts_table AS con\n",
      "--end-sparksql\n",
      "\n"
     ]
    }
   ],
   "source": [
    "# declare a python string\n",
    "sql = '''\n",
    "--start-sparksql\n",
    "SELECT\n",
    "    *, \n",
    "    explode(con.phoneNumbers) as phoneNumber\n",
    "FROM\n",
    "    contacts_table AS con\n",
    "--end-sparksql\n",
    "'''\n",
    "print(sql)"
   ]
  },
  {
   "cell_type": "code",
   "execution_count": 22,
   "id": "a158e7f8",
   "metadata": {},
   "outputs": [
    {
     "name": "stdout",
     "output_type": "stream",
     "text": [
      "+--------------------+---+----------+---------+--------------------+------------------+\n",
      "|             address|age|first Name|last Name|        phoneNumbers|       phoneNumber|\n",
      "+--------------------+---+----------+---------+--------------------+------------------+\n",
      "|{San Jone, 394221...| 24|      Rack|   Jackon|[{7383627627, home}]|{7383627627, home}|\n",
      "+--------------------+---+----------+---------+--------------------+------------------+\n",
      "\n"
     ]
    }
   ],
   "source": [
    "spark.sql(sql).show()"
   ]
  },
  {
   "cell_type": "code",
   "execution_count": 23,
   "id": "99f22aaf",
   "metadata": {},
   "outputs": [
    {
     "data": {
      "text/plain": [
       "\u001b[0;31mDocstring:\u001b[0m\n",
       "::\n",
       "\n",
       "  %sparksql [-l max_rows] [-r all|local|none] [-d name] [-c] [-e]\n",
       "                [-v name] [-o sql|json|html|grid|text|schema|skip|none] [-s]\n",
       "                [-j]\n",
       "                [sql [sql ...]]\n",
       "\n",
       "Magic that works both as %sparksql and as %%sparksql\n",
       "\n",
       "positional arguments:\n",
       "  sql                   SQL statement to execute\n",
       "\n",
       "optional arguments:\n",
       "  -l max_rows, --limit max_rows\n",
       "                        The maximum number of rows to display. A value of zero\n",
       "                        is equivalent to `--output skip`\n",
       "  -r <all|local|none>, --refresh <all|local|none>\n",
       "                        Force the regeneration of the schema cache file. The\n",
       "                        `local` option will only update tables/views created\n",
       "                        in the local Spark context.\n",
       "  -d name, --dataframe name\n",
       "                        Capture dataframe in a local variable named `name`\n",
       "  -c, --cache           Cache dataframe\n",
       "  -e, --eager           Cache dataframe with eager load\n",
       "  -v name, --view name  Create or replace a temporary view named `name`\n",
       "  -o <sql|json|html|grid|text|schema|skip|none>, --output <sql|json|html|grid|text|schema|skip|none>\n",
       "                        Output format. Defaults to html. The `sql` option\n",
       "                        prints the SQL statement that will be executed (useful\n",
       "                        to test jinja templated statements)\n",
       "  -s, --show-nonprinting\n",
       "                        Replace none printable characters with their ascii\n",
       "                        codes (LF -> )\n",
       "  -j, --jinja           Enable Jinja templating support\n",
       "\u001b[0;31mFile:\u001b[0m      /data/dev/jupyterlab-sql-editor/jupyterlab_sql_editor/ipython_magic/sparksql/sparksql.py\n"
      ]
     },
     "metadata": {},
     "output_type": "display_data"
    }
   ],
   "source": [
    "%%sparksql?"
   ]
  },
  {
   "cell_type": "code",
   "execution_count": null,
   "id": "60a60cd3",
   "metadata": {},
   "outputs": [],
   "source": []
  },
  {
   "cell_type": "markdown",
   "id": "f5b010c4-474f-4bdc-b6e2-0d2eefd5b516",
   "metadata": {},
   "source": [
    "# Long running query show progress bar and link to Spark UI"
   ]
  },
  {
   "cell_type": "code",
   "execution_count": 24,
   "id": "12a0797c-3011-4e14-8b2e-b06ca12f2638",
   "metadata": {
    "tags": []
   },
   "outputs": [
    {
     "data": {
      "application/vnd.jupyter.widget-view+json": {
       "model_id": "749595d790674fc5bc96c3552ef338ee",
       "version_major": 2,
       "version_minor": 0
      },
      "text/plain": [
       "SparkSchemaWidget(nodes=(Node(close_icon='angle-down', close_icon_style='danger', icon='project-diagram', icon…"
      ]
     },
     "metadata": {},
     "output_type": "display_data"
    },
    {
     "data": {
      "application/vnd.jupyter.widget-view+json": {
       "model_id": "9e9a248a0fd7469882af22022befdc2a",
       "version_major": 2,
       "version_minor": 0
      },
      "text/plain": [
       "Output()"
      ]
     },
     "metadata": {},
     "output_type": "display_data"
    },
    {
     "data": {
      "application/vnd.jupyter.widget-view+json": {
       "model_id": "9f729568242f4a0382519584e854888e",
       "version_major": 2,
       "version_minor": 0
      },
      "text/plain": [
       "DataGrid(auto_fit_params={'area': 'all', 'padding': 30, 'numCols': None}, corner_renderer=None, default_render…"
      ]
     },
     "metadata": {},
     "output_type": "display_data"
    },
    {
     "data": {
      "text/plain": [
       "Only showing top 1 row(s)"
      ]
     },
     "metadata": {},
     "output_type": "display_data"
    },
    {
     "data": {
      "text/plain": [
       "Execution time: 10.32 seconds"
      ]
     },
     "metadata": {},
     "output_type": "display_data"
    }
   ],
   "source": [
    "%%sparksql --limit 1 --output grid\n",
    "SELECT\n",
    "    id,\n",
    "    rand() AS f1,\n",
    "    rand() AS f2,\n",
    "    rand() AS f3,\n",
    "    rand() AS f4,\n",
    "    rand() AS f5,\n",
    "    TRANSFORM(SEQUENCE(1, 512), x -> rand()) AS data -- array of 512 floats\n",
    "FROM\n",
    "RANGE\n",
    "    (1, 400000, 1, 100) \n",
    "UNION\n",
    "SELECT\n",
    "    id,\n",
    "    rand() AS f1,\n",
    "    rand() AS f2,\n",
    "    rand() AS f3,\n",
    "    rand() AS f4,\n",
    "    rand() AS f5,\n",
    "    TRANSFORM(SEQUENCE(1, 512), x -> rand()) AS data -- array of 512 floats\n",
    "FROM\n",
    "RANGE\n",
    "    (1, 40000, 1, 100) \n"
   ]
  },
  {
   "cell_type": "code",
   "execution_count": null,
   "id": "f743af34-db3d-450f-b423-d4ce61c61427",
   "metadata": {},
   "outputs": [],
   "source": []
  }
 ],
 "metadata": {
  "kernelspec": {
   "display_name": "Python 3 (ipykernel)",
   "language": "python",
   "name": "python3"
  },
  "language_info": {
   "codemirror_mode": {
    "name": "ipython",
    "version": 3
   },
   "file_extension": ".py",
   "mimetype": "text/x-python",
   "name": "python",
   "nbconvert_exporter": "python",
   "pygments_lexer": "ipython3",
   "version": "3.8.0"
  }
 },
 "nbformat": 4,
 "nbformat_minor": 5
}
