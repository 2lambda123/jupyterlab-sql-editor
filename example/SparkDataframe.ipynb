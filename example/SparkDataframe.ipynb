{
 "cells": [
  {
   "cell_type": "code",
   "execution_count": 1,
   "id": "8108c80c-307c-4867-a095-82c65de5a164",
   "metadata": {},
   "outputs": [],
   "source": [
    "import json\n",
    "import pyspark\n",
    "from pyspark.sql import SparkSession\n",
    "from pyspark.sql.types import *\n",
    "import ipywidgets as widgets\n",
    "out = widgets.Output()\n",
    "with out:\n",
    "    spark = SparkSession.builder.getOrCreate()"
   ]
  },
  {
   "cell_type": "code",
   "execution_count": 2,
   "id": "56e26164-d27e-41b7-a21f-585c8e0b912f",
   "metadata": {},
   "outputs": [
    {
     "data": {
      "text/plain": [
       "DataFrame[id: bigint, uuid(): string]"
      ]
     },
     "execution_count": 2,
     "metadata": {},
     "output_type": "execute_result"
    }
   ],
   "source": [
    "df = spark.sql(\"SELECT id, uuid() FROM RANGE (1, 1000)\")\n",
    "df"
   ]
  },
  {
   "cell_type": "code",
   "execution_count": 3,
   "id": "126ea2c4-411e-468d-b95d-fb376b55ec73",
   "metadata": {},
   "outputs": [],
   "source": [
    "from cccs.ipython.sparkdf import register_display, display_df\n",
    "register_display()"
   ]
  },
  {
   "cell_type": "code",
   "execution_count": 4,
   "id": "de6930e0-b1b0-4978-ae67-e47ab852b604",
   "metadata": {},
   "outputs": [
    {
     "data": {
      "application/vnd.jupyter.widget-view+json": {
       "model_id": "dca4cd1aad4e4a73ad47679875a0866b",
       "version_major": 2,
       "version_minor": 0
      },
      "text/plain": [
       "SparkSchemaWidget(nodes=(Node(close_icon='angle-down', close_icon_style='danger', icon='project-diagram', icon…"
      ]
     },
     "metadata": {},
     "output_type": "display_data"
    },
    {
     "data": {
      "application/vnd.jupyter.widget-view+json": {
       "model_id": "de217f9c8c734d099c38160bc3392da4",
       "version_major": 2,
       "version_minor": 0
      },
      "text/plain": [
       "Output()"
      ]
     },
     "metadata": {},
     "output_type": "display_data"
    },
    {
     "data": {
      "application/vnd.jupyter.widget-view+json": {
       "model_id": "4032c9b49e6b49e1b09deca9b5877b8e",
       "version_major": 2,
       "version_minor": 0
      },
      "text/plain": [
       "DataGrid(auto_fit_params={'area': 'all', 'padding': 30, 'numCols': None}, corner_renderer=None, default_render…"
      ]
     },
     "metadata": {},
     "output_type": "display_data"
    },
    {
     "data": {
      "text/plain": [
       "Only showing top 20 row(s)"
      ]
     },
     "metadata": {},
     "output_type": "display_data"
    },
    {
     "data": {
      "text/plain": [
       "Execution time: 1.54 seconds"
      ]
     },
     "metadata": {},
     "output_type": "display_data"
    },
    {
     "data": {
      "text/plain": []
     },
     "execution_count": 4,
     "metadata": {},
     "output_type": "execute_result"
    }
   ],
   "source": [
    "# change default display behaviour\n",
    "df = spark.sql(\"SELECT id, uuid() FROM RANGE (1, 1000)\")\n",
    "df"
   ]
  },
  {
   "cell_type": "code",
   "execution_count": 5,
   "id": "8683f968-afda-4646-b343-99aa3dcf77b1",
   "metadata": {},
   "outputs": [
    {
     "data": {
      "application/vnd.jupyter.widget-view+json": {
       "model_id": "2202907b80f54af28ee86e34bc705ac6",
       "version_major": 2,
       "version_minor": 0
      },
      "text/plain": [
       "SparkSchemaWidget(nodes=(Node(close_icon='angle-down', close_icon_style='danger', icon='project-diagram', icon…"
      ]
     },
     "metadata": {},
     "output_type": "display_data"
    },
    {
     "data": {
      "application/vnd.jupyter.widget-view+json": {
       "model_id": "b4fa82072c5c4d05b7191bf3c7e03126",
       "version_major": 2,
       "version_minor": 0
      },
      "text/plain": [
       "Output()"
      ]
     },
     "metadata": {},
     "output_type": "display_data"
    },
    {
     "data": {
      "text/html": [
       "<table><tr style=\"border-bottom: 1px solid\"><td style=\"font-weight: bold\">id</td><td style=\"font-weight: bold\">uuid()</td></tr><tr><td>1</td><td>2babe0f9-ac00-4909-8413-70aa6a0194f9</td></tr></table>"
      ],
      "text/plain": [
       "<IPython.core.display.HTML object>"
      ]
     },
     "metadata": {},
     "output_type": "display_data"
    },
    {
     "data": {
      "text/plain": [
       "Only showing top 1 row(s)"
      ]
     },
     "metadata": {},
     "output_type": "display_data"
    },
    {
     "data": {
      "text/plain": [
       "Execution time: 0.07 seconds"
      ]
     },
     "metadata": {},
     "output_type": "display_data"
    }
   ],
   "source": [
    "# display_df lets you configure the output\n",
    "display_df(df, limit=1, output='html', show_nonprinting=False)"
   ]
  },
  {
   "cell_type": "code",
   "execution_count": 6,
   "id": "b7ccc1f6-a135-4d75-8d9a-561d057b2b7e",
   "metadata": {},
   "outputs": [
    {
     "data": {
      "application/vnd.jupyter.widget-view+json": {
       "model_id": "abbb1ebbd3f74a1fb564bad7c996a365",
       "version_major": 2,
       "version_minor": 0
      },
      "text/plain": [
       "SparkSchemaWidget(nodes=(Node(close_icon='angle-down', close_icon_style='danger', icon='project-diagram', icon…"
      ]
     },
     "metadata": {},
     "output_type": "display_data"
    },
    {
     "data": {
      "application/vnd.jupyter.widget-view+json": {
       "model_id": "1277072e898946a1adf770ac6708333a",
       "version_major": 2,
       "version_minor": 0
      },
      "text/plain": [
       "Output()"
      ]
     },
     "metadata": {},
     "output_type": "display_data"
    },
    {
     "data": {
      "text/plain": [
       "+---+------------------------------------+\n",
       "| id|                              uuid()|\n",
       "+---+------------------------------------+\n",
       "|  1|2babe0f9-ac00-4909-8413-70aa6a0194f9|\n",
       "+---+------------------------------------+\n",
       "only showing top 1 row"
      ]
     },
     "metadata": {},
     "output_type": "display_data"
    },
    {
     "data": {
      "text/plain": [
       "Execution time: 0.24 seconds"
      ]
     },
     "metadata": {},
     "output_type": "display_data"
    }
   ],
   "source": [
    "display_df(df, limit=1, output='text')"
   ]
  },
  {
   "cell_type": "code",
   "execution_count": 7,
   "id": "6c5f94b5-4561-4729-a63d-153c0b31e368",
   "metadata": {},
   "outputs": [
    {
     "data": {
      "application/vnd.jupyter.widget-view+json": {
       "model_id": "b58f0541a41a4be7b7b09216c86659e7",
       "version_major": 2,
       "version_minor": 0
      },
      "text/plain": [
       "SparkSchemaWidget(nodes=(Node(close_icon='angle-down', close_icon_style='danger', icon='project-diagram', icon…"
      ]
     },
     "metadata": {},
     "output_type": "display_data"
    },
    {
     "data": {
      "application/vnd.jupyter.widget-view+json": {
       "model_id": "56d0ba4adc6d4c4caa0c6a87290bcdee",
       "version_major": 2,
       "version_minor": 0
      },
      "text/plain": [
       "Output()"
      ]
     },
     "metadata": {},
     "output_type": "display_data"
    },
    {
     "data": {
      "application/json": [
       {
        "address": {
         "city": "San Jone",
         "postalCode": "394221",
         "state": "CA",
         "streetAddress": "126"
        },
        "age": 24,
        "first Name": "Rack",
        "last Name": "Jackon",
        "phoneNumbers": [
         {
          "number": "7383627627",
          "type": "home"
         }
        ]
       }
      ],
      "text/plain": [
       "<IPython.core.display.JSON object>"
      ]
     },
     "metadata": {
      "application/json": {
       "expanded": false,
       "root": "root"
      }
     },
     "output_type": "display_data"
    },
    {
     "data": {
      "text/plain": [
       "Execution time: 0.23 seconds"
      ]
     },
     "metadata": {},
     "output_type": "display_data"
    }
   ],
   "source": [
    "df = spark.read.json(\"contacts.json\")\n",
    "display_df(df, output='json')"
   ]
  },
  {
   "cell_type": "code",
   "execution_count": null,
   "id": "1447b3e6-955b-4269-bc04-6395a9673036",
   "metadata": {},
   "outputs": [],
   "source": []
  }
 ],
 "metadata": {
  "kernelspec": {
   "display_name": "Python 3 (ipykernel)",
   "language": "python",
   "name": "python3"
  },
  "language_info": {
   "codemirror_mode": {
    "name": "ipython",
    "version": 3
   },
   "file_extension": ".py",
   "mimetype": "text/x-python",
   "name": "python",
   "nbconvert_exporter": "python",
   "pygments_lexer": "ipython3",
   "version": "3.8.0"
  }
 },
 "nbformat": 4,
 "nbformat_minor": 5
}
